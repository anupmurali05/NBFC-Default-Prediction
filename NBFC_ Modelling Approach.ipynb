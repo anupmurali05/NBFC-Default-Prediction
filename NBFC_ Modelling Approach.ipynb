{
 "cells": [
  {
   "cell_type": "code",
   "execution_count": 1,
   "id": "b3589b46",
   "metadata": {},
   "outputs": [],
   "source": [
    "import numpy as np\n",
    "import pandas as pd\n",
    "import seaborn as sns\n",
    "import matplotlib.pyplot as plt\n",
    "from warnings import filterwarnings\n",
    "from statsmodels.stats.outliers_influence import variance_inflation_factor\n",
    "from sklearn.metrics \\\n",
    "import confusion_matrix, classification_report, accuracy_score, recall_score, precision_score, f1_score, roc_curve, auc\n",
    "filterwarnings(\"ignore\")"
   ]
  },
  {
   "cell_type": "code",
   "execution_count": 2,
   "id": "03020ee5",
   "metadata": {},
   "outputs": [],
   "source": [
    "plt.rcParams['figure.figsize'] = (7,5)\n",
    "plt.rcParams['font.size'] = 14\n",
    "plt.rcParams['axes.grid'] = True"
   ]
  },
  {
   "cell_type": "code",
   "execution_count": 3,
   "id": "887f79b8",
   "metadata": {},
   "outputs": [
    {
     "data": {
      "text/html": [
       "<div>\n",
       "<style scoped>\n",
       "    .dataframe tbody tr th:only-of-type {\n",
       "        vertical-align: middle;\n",
       "    }\n",
       "\n",
       "    .dataframe tbody tr th {\n",
       "        vertical-align: top;\n",
       "    }\n",
       "\n",
       "    .dataframe thead th {\n",
       "        text-align: right;\n",
       "    }\n",
       "</style>\n",
       "<table border=\"1\" class=\"dataframe\">\n",
       "  <thead>\n",
       "    <tr style=\"text-align: right;\">\n",
       "      <th></th>\n",
       "      <th>Unnamed: 0</th>\n",
       "      <th>AUTHORIZATIONDATE</th>\n",
       "      <th>BALANCE_EXCESS</th>\n",
       "      <th>BALANCE_TENURE</th>\n",
       "      <th>CITY</th>\n",
       "      <th>COMPLETED_TENURE</th>\n",
       "      <th>CURRENT_INTEREST_RATE</th>\n",
       "      <th>CURRENT_INTEREST_RATE_MAX</th>\n",
       "      <th>CURRENT_INTEREST_RATE_MIN</th>\n",
       "      <th>CURRENT_INTEREST_RATE_CHANGES</th>\n",
       "      <th>...</th>\n",
       "      <th>PAID_INTEREST</th>\n",
       "      <th>PAID_PRINCIPAL</th>\n",
       "      <th>PRE_EMI_DUEAMT</th>\n",
       "      <th>PRE_EMI_OS_AMOUNT</th>\n",
       "      <th>PRE_EMI_RECEIVED_AMT</th>\n",
       "      <th>PRODUCT</th>\n",
       "      <th>NPA_IN_LAST_MONTH</th>\n",
       "      <th>NPA_IN_CURRENT_MONTH</th>\n",
       "      <th>MOB</th>\n",
       "      <th>FORECLOSURE</th>\n",
       "    </tr>\n",
       "  </thead>\n",
       "  <tbody>\n",
       "    <tr>\n",
       "      <th>0</th>\n",
       "      <td>0</td>\n",
       "      <td>2010-08-29</td>\n",
       "      <td>0.0</td>\n",
       "      <td>0</td>\n",
       "      <td>MUMBAI</td>\n",
       "      <td>45</td>\n",
       "      <td>13.421934</td>\n",
       "      <td>13.734072</td>\n",
       "      <td>13.421934</td>\n",
       "      <td>1</td>\n",
       "      <td>...</td>\n",
       "      <td>2.725723e+06</td>\n",
       "      <td>1.159366e+07</td>\n",
       "      <td>7994.273589</td>\n",
       "      <td>0.0</td>\n",
       "      <td>7994.273589</td>\n",
       "      <td>HL</td>\n",
       "      <td>0</td>\n",
       "      <td>0</td>\n",
       "      <td>45</td>\n",
       "      <td>1</td>\n",
       "    </tr>\n",
       "    <tr>\n",
       "      <th>1</th>\n",
       "      <td>1</td>\n",
       "      <td>2010-09-15</td>\n",
       "      <td>0.0</td>\n",
       "      <td>99</td>\n",
       "      <td>MUMBAI</td>\n",
       "      <td>38</td>\n",
       "      <td>13.734072</td>\n",
       "      <td>13.734072</td>\n",
       "      <td>13.734072</td>\n",
       "      <td>0</td>\n",
       "      <td>...</td>\n",
       "      <td>4.945154e+06</td>\n",
       "      <td>6.942656e+06</td>\n",
       "      <td>100504.575864</td>\n",
       "      <td>0.0</td>\n",
       "      <td>100504.575864</td>\n",
       "      <td>HL</td>\n",
       "      <td>0</td>\n",
       "      <td>0</td>\n",
       "      <td>38</td>\n",
       "      <td>1</td>\n",
       "    </tr>\n",
       "    <tr>\n",
       "      <th>2</th>\n",
       "      <td>2</td>\n",
       "      <td>2010-11-02</td>\n",
       "      <td>0.0</td>\n",
       "      <td>231</td>\n",
       "      <td>MUMBAI</td>\n",
       "      <td>81</td>\n",
       "      <td>15.606900</td>\n",
       "      <td>16.231176</td>\n",
       "      <td>15.606900</td>\n",
       "      <td>2</td>\n",
       "      <td>...</td>\n",
       "      <td>2.990124e+06</td>\n",
       "      <td>9.392115e+05</td>\n",
       "      <td>5947.630536</td>\n",
       "      <td>0.0</td>\n",
       "      <td>5947.630536</td>\n",
       "      <td>HL</td>\n",
       "      <td>0</td>\n",
       "      <td>0</td>\n",
       "      <td>81</td>\n",
       "      <td>1</td>\n",
       "    </tr>\n",
       "    <tr>\n",
       "      <th>3</th>\n",
       "      <td>3</td>\n",
       "      <td>2010-10-06</td>\n",
       "      <td>0.0</td>\n",
       "      <td>0</td>\n",
       "      <td>THANE</td>\n",
       "      <td>91</td>\n",
       "      <td>11.236968</td>\n",
       "      <td>13.734072</td>\n",
       "      <td>11.236968</td>\n",
       "      <td>4</td>\n",
       "      <td>...</td>\n",
       "      <td>4.648994e+06</td>\n",
       "      <td>9.979637e+06</td>\n",
       "      <td>60322.180776</td>\n",
       "      <td>0.0</td>\n",
       "      <td>60322.180776</td>\n",
       "      <td>HL</td>\n",
       "      <td>0</td>\n",
       "      <td>0</td>\n",
       "      <td>91</td>\n",
       "      <td>1</td>\n",
       "    </tr>\n",
       "    <tr>\n",
       "      <th>4</th>\n",
       "      <td>4</td>\n",
       "      <td>2010-10-26</td>\n",
       "      <td>0.0</td>\n",
       "      <td>215</td>\n",
       "      <td>MUMBAI</td>\n",
       "      <td>89</td>\n",
       "      <td>14.982624</td>\n",
       "      <td>15.606900</td>\n",
       "      <td>14.982624</td>\n",
       "      <td>2</td>\n",
       "      <td>...</td>\n",
       "      <td>6.593778e+06</td>\n",
       "      <td>5.552847e+05</td>\n",
       "      <td>27732.787464</td>\n",
       "      <td>0.0</td>\n",
       "      <td>27732.787464</td>\n",
       "      <td>HL</td>\n",
       "      <td>0</td>\n",
       "      <td>0</td>\n",
       "      <td>90</td>\n",
       "      <td>1</td>\n",
       "    </tr>\n",
       "    <tr>\n",
       "      <th>...</th>\n",
       "      <td>...</td>\n",
       "      <td>...</td>\n",
       "      <td>...</td>\n",
       "      <td>...</td>\n",
       "      <td>...</td>\n",
       "      <td>...</td>\n",
       "      <td>...</td>\n",
       "      <td>...</td>\n",
       "      <td>...</td>\n",
       "      <td>...</td>\n",
       "      <td>...</td>\n",
       "      <td>...</td>\n",
       "      <td>...</td>\n",
       "      <td>...</td>\n",
       "      <td>...</td>\n",
       "      <td>...</td>\n",
       "      <td>...</td>\n",
       "      <td>...</td>\n",
       "      <td>...</td>\n",
       "      <td>...</td>\n",
       "      <td>...</td>\n",
       "    </tr>\n",
       "    <tr>\n",
       "      <th>19760</th>\n",
       "      <td>20007</td>\n",
       "      <td>2015-06-30</td>\n",
       "      <td>0.0</td>\n",
       "      <td>240</td>\n",
       "      <td>PUNE</td>\n",
       "      <td>0</td>\n",
       "      <td>13.421934</td>\n",
       "      <td>13.421934</td>\n",
       "      <td>13.421934</td>\n",
       "      <td>0</td>\n",
       "      <td>...</td>\n",
       "      <td>1.381342e+04</td>\n",
       "      <td>0.000000e+00</td>\n",
       "      <td>20320.886952</td>\n",
       "      <td>0.0</td>\n",
       "      <td>20320.886952</td>\n",
       "      <td>HL</td>\n",
       "      <td>0</td>\n",
       "      <td>0</td>\n",
       "      <td>1</td>\n",
       "      <td>0</td>\n",
       "    </tr>\n",
       "    <tr>\n",
       "      <th>19761</th>\n",
       "      <td>20008</td>\n",
       "      <td>2015-06-29</td>\n",
       "      <td>0.0</td>\n",
       "      <td>240</td>\n",
       "      <td>HYDERABAD</td>\n",
       "      <td>0</td>\n",
       "      <td>13.109796</td>\n",
       "      <td>13.109796</td>\n",
       "      <td>13.109796</td>\n",
       "      <td>0</td>\n",
       "      <td>...</td>\n",
       "      <td>0.000000e+00</td>\n",
       "      <td>0.000000e+00</td>\n",
       "      <td>0.000000</td>\n",
       "      <td>0.0</td>\n",
       "      <td>0.000000</td>\n",
       "      <td>HL</td>\n",
       "      <td>0</td>\n",
       "      <td>0</td>\n",
       "      <td>0</td>\n",
       "      <td>0</td>\n",
       "    </tr>\n",
       "    <tr>\n",
       "      <th>19762</th>\n",
       "      <td>20009</td>\n",
       "      <td>2015-07-31</td>\n",
       "      <td>0.0</td>\n",
       "      <td>96</td>\n",
       "      <td>AHMEDABAD</td>\n",
       "      <td>0</td>\n",
       "      <td>15.606900</td>\n",
       "      <td>15.606900</td>\n",
       "      <td>15.606900</td>\n",
       "      <td>0</td>\n",
       "      <td>...</td>\n",
       "      <td>0.000000e+00</td>\n",
       "      <td>0.000000e+00</td>\n",
       "      <td>0.000000</td>\n",
       "      <td>0.0</td>\n",
       "      <td>0.000000</td>\n",
       "      <td>LAP</td>\n",
       "      <td>0</td>\n",
       "      <td>0</td>\n",
       "      <td>0</td>\n",
       "      <td>0</td>\n",
       "    </tr>\n",
       "    <tr>\n",
       "      <th>19763</th>\n",
       "      <td>20010</td>\n",
       "      <td>2015-08-31</td>\n",
       "      <td>0.0</td>\n",
       "      <td>60</td>\n",
       "      <td>BANGALORE</td>\n",
       "      <td>0</td>\n",
       "      <td>15.606900</td>\n",
       "      <td>15.606900</td>\n",
       "      <td>15.606900</td>\n",
       "      <td>0</td>\n",
       "      <td>...</td>\n",
       "      <td>0.000000e+00</td>\n",
       "      <td>0.000000e+00</td>\n",
       "      <td>0.000000</td>\n",
       "      <td>0.0</td>\n",
       "      <td>0.000000</td>\n",
       "      <td>LAP</td>\n",
       "      <td>0</td>\n",
       "      <td>0</td>\n",
       "      <td>0</td>\n",
       "      <td>0</td>\n",
       "    </tr>\n",
       "    <tr>\n",
       "      <th>19764</th>\n",
       "      <td>20011</td>\n",
       "      <td>2015-08-31</td>\n",
       "      <td>0.0</td>\n",
       "      <td>120</td>\n",
       "      <td>GANDHINAGAR</td>\n",
       "      <td>0</td>\n",
       "      <td>14.545631</td>\n",
       "      <td>14.545631</td>\n",
       "      <td>14.545631</td>\n",
       "      <td>0</td>\n",
       "      <td>...</td>\n",
       "      <td>0.000000e+00</td>\n",
       "      <td>0.000000e+00</td>\n",
       "      <td>0.000000</td>\n",
       "      <td>0.0</td>\n",
       "      <td>0.000000</td>\n",
       "      <td>LAP</td>\n",
       "      <td>0</td>\n",
       "      <td>0</td>\n",
       "      <td>0</td>\n",
       "      <td>0</td>\n",
       "    </tr>\n",
       "  </tbody>\n",
       "</table>\n",
       "<p>19765 rows × 51 columns</p>\n",
       "</div>"
      ],
      "text/plain": [
       "       Unnamed: 0 AUTHORIZATIONDATE  BALANCE_EXCESS  BALANCE_TENURE  \\\n",
       "0               0        2010-08-29             0.0               0   \n",
       "1               1        2010-09-15             0.0              99   \n",
       "2               2        2010-11-02             0.0             231   \n",
       "3               3        2010-10-06             0.0               0   \n",
       "4               4        2010-10-26             0.0             215   \n",
       "...           ...               ...             ...             ...   \n",
       "19760       20007        2015-06-30             0.0             240   \n",
       "19761       20008        2015-06-29             0.0             240   \n",
       "19762       20009        2015-07-31             0.0              96   \n",
       "19763       20010        2015-08-31             0.0              60   \n",
       "19764       20011        2015-08-31             0.0             120   \n",
       "\n",
       "              CITY  COMPLETED_TENURE  CURRENT_INTEREST_RATE  \\\n",
       "0           MUMBAI                45              13.421934   \n",
       "1           MUMBAI                38              13.734072   \n",
       "2           MUMBAI                81              15.606900   \n",
       "3            THANE                91              11.236968   \n",
       "4           MUMBAI                89              14.982624   \n",
       "...            ...               ...                    ...   \n",
       "19760         PUNE                 0              13.421934   \n",
       "19761    HYDERABAD                 0              13.109796   \n",
       "19762    AHMEDABAD                 0              15.606900   \n",
       "19763    BANGALORE                 0              15.606900   \n",
       "19764  GANDHINAGAR                 0              14.545631   \n",
       "\n",
       "       CURRENT_INTEREST_RATE_MAX  CURRENT_INTEREST_RATE_MIN  \\\n",
       "0                      13.734072                  13.421934   \n",
       "1                      13.734072                  13.734072   \n",
       "2                      16.231176                  15.606900   \n",
       "3                      13.734072                  11.236968   \n",
       "4                      15.606900                  14.982624   \n",
       "...                          ...                        ...   \n",
       "19760                  13.421934                  13.421934   \n",
       "19761                  13.109796                  13.109796   \n",
       "19762                  15.606900                  15.606900   \n",
       "19763                  15.606900                  15.606900   \n",
       "19764                  14.545631                  14.545631   \n",
       "\n",
       "       CURRENT_INTEREST_RATE_CHANGES  ...  PAID_INTEREST  PAID_PRINCIPAL  \\\n",
       "0                                  1  ...   2.725723e+06    1.159366e+07   \n",
       "1                                  0  ...   4.945154e+06    6.942656e+06   \n",
       "2                                  2  ...   2.990124e+06    9.392115e+05   \n",
       "3                                  4  ...   4.648994e+06    9.979637e+06   \n",
       "4                                  2  ...   6.593778e+06    5.552847e+05   \n",
       "...                              ...  ...            ...             ...   \n",
       "19760                              0  ...   1.381342e+04    0.000000e+00   \n",
       "19761                              0  ...   0.000000e+00    0.000000e+00   \n",
       "19762                              0  ...   0.000000e+00    0.000000e+00   \n",
       "19763                              0  ...   0.000000e+00    0.000000e+00   \n",
       "19764                              0  ...   0.000000e+00    0.000000e+00   \n",
       "\n",
       "       PRE_EMI_DUEAMT  PRE_EMI_OS_AMOUNT  PRE_EMI_RECEIVED_AMT  PRODUCT  \\\n",
       "0         7994.273589                0.0           7994.273589       HL   \n",
       "1       100504.575864                0.0         100504.575864       HL   \n",
       "2         5947.630536                0.0           5947.630536       HL   \n",
       "3        60322.180776                0.0          60322.180776       HL   \n",
       "4        27732.787464                0.0          27732.787464       HL   \n",
       "...               ...                ...                   ...      ...   \n",
       "19760    20320.886952                0.0          20320.886952       HL   \n",
       "19761        0.000000                0.0              0.000000       HL   \n",
       "19762        0.000000                0.0              0.000000      LAP   \n",
       "19763        0.000000                0.0              0.000000      LAP   \n",
       "19764        0.000000                0.0              0.000000      LAP   \n",
       "\n",
       "       NPA_IN_LAST_MONTH  NPA_IN_CURRENT_MONTH  MOB  FORECLOSURE  \n",
       "0                      0                     0   45            1  \n",
       "1                      0                     0   38            1  \n",
       "2                      0                     0   81            1  \n",
       "3                      0                     0   91            1  \n",
       "4                      0                     0   90            1  \n",
       "...                  ...                   ...  ...          ...  \n",
       "19760                  0                     0    1            0  \n",
       "19761                  0                     0    0            0  \n",
       "19762                  0                     0    0            0  \n",
       "19763                  0                     0    0            0  \n",
       "19764                  0                     0    0            0  \n",
       "\n",
       "[19765 rows x 51 columns]"
      ]
     },
     "execution_count": 3,
     "metadata": {},
     "output_type": "execute_result"
    }
   ],
   "source": [
    "DF = pd.read_excel(\"C:\\\\Users\\\\am236\\\\OneDrive - DXC Production\\\\anup\\\\NBFCFinalData.xlsx\")\n",
    "DF"
   ]
  },
  {
   "cell_type": "code",
   "execution_count": 4,
   "id": "4cc2e1c8",
   "metadata": {},
   "outputs": [
    {
     "data": {
      "text/plain": [
       "(19765, 51)"
      ]
     },
     "execution_count": 4,
     "metadata": {},
     "output_type": "execute_result"
    }
   ],
   "source": [
    "DF.shape"
   ]
  },
  {
   "cell_type": "code",
   "execution_count": 5,
   "id": "075b212f",
   "metadata": {},
   "outputs": [
    {
     "name": "stdout",
     "output_type": "stream",
     "text": [
      "<class 'pandas.core.frame.DataFrame'>\n",
      "RangeIndex: 19765 entries, 0 to 19764\n",
      "Data columns (total 51 columns):\n",
      " #   Column                               Non-Null Count  Dtype         \n",
      "---  ------                               --------------  -----         \n",
      " 0   Unnamed: 0                           19765 non-null  int64         \n",
      " 1   AUTHORIZATIONDATE                    19765 non-null  datetime64[ns]\n",
      " 2   BALANCE_EXCESS                       19765 non-null  float64       \n",
      " 3   BALANCE_TENURE                       19765 non-null  int64         \n",
      " 4   CITY                                 19765 non-null  object        \n",
      " 5   COMPLETED_TENURE                     19765 non-null  int64         \n",
      " 6   CURRENT_INTEREST_RATE                19765 non-null  float64       \n",
      " 7   CURRENT_INTEREST_RATE_MAX            19765 non-null  float64       \n",
      " 8   CURRENT_INTEREST_RATE_MIN            19765 non-null  float64       \n",
      " 9   CURRENT_INTEREST_RATE_CHANGES        19765 non-null  int64         \n",
      " 10  CURRENT_TENOR                        19765 non-null  int64         \n",
      " 11  DIFF_AUTH_INT_DATE                   19765 non-null  int64         \n",
      " 12  DIFF_CURRENT_INTEREST_RATE_MAX_MIN   19765 non-null  float64       \n",
      " 13  DIFF_EMI_AMOUNT_MAX_MIN              19765 non-null  float64       \n",
      " 14  DIFF_ORIGINAL_CURRENT_INTEREST_RATE  19765 non-null  float64       \n",
      " 15  DIFF_ORIGINAL_CURRENT_TENOR          19765 non-null  int64         \n",
      " 16  DPD                                  19765 non-null  int64         \n",
      " 17  DUEDAY                               19765 non-null  int64         \n",
      " 18  EMI_AMOUNT                           19765 non-null  float64       \n",
      " 19  EMI_DUEAMT                           19765 non-null  float64       \n",
      " 20  EMI_OS_AMOUNT                        19765 non-null  float64       \n",
      " 21  EMI_RECEIVED_AMT                     19765 non-null  float64       \n",
      " 22  EXCESS_ADJUSTED_AMT                  19765 non-null  float64       \n",
      " 23  EXCESS_AVAILABLE                     19765 non-null  float64       \n",
      " 24  FOIR                                 19765 non-null  float64       \n",
      " 25  INTEREST_START_DATE                  19765 non-null  datetime64[ns]\n",
      " 26  LAST_RECEIPT_AMOUNT                  19765 non-null  float64       \n",
      " 27  LAST_RECEIPT_DATE                    19765 non-null  datetime64[ns]\n",
      " 28  LATEST_TRANSACTION_MONTH             19765 non-null  int64         \n",
      " 29  LOAN_AMT                             19765 non-null  float64       \n",
      " 30  MAX_EMI_AMOUNT                       19765 non-null  float64       \n",
      " 31  MIN_EMI_AMOUNT                       19765 non-null  float64       \n",
      " 32  MONTHOPENING                         19765 non-null  float64       \n",
      " 33  NET_DISBURSED_AMT                    19765 non-null  float64       \n",
      " 34  NET_LTV                              19765 non-null  float64       \n",
      " 35  NET_RECEIVABLE                       19765 non-null  float64       \n",
      " 36  NUM_EMI_CHANGES                      19765 non-null  int64         \n",
      " 37  NUM_LOW_FREQ_TRANSACTIONS            19765 non-null  int64         \n",
      " 38  ORIGNAL_INTEREST_RATE                19765 non-null  float64       \n",
      " 39  ORIGNAL_TENOR                        19765 non-null  int64         \n",
      " 40  OUTSTANDING_PRINCIPAL                19765 non-null  float64       \n",
      " 41  PAID_INTEREST                        19765 non-null  float64       \n",
      " 42  PAID_PRINCIPAL                       19765 non-null  float64       \n",
      " 43  PRE_EMI_DUEAMT                       19765 non-null  float64       \n",
      " 44  PRE_EMI_OS_AMOUNT                    19765 non-null  float64       \n",
      " 45  PRE_EMI_RECEIVED_AMT                 19765 non-null  float64       \n",
      " 46  PRODUCT                              19765 non-null  object        \n",
      " 47  NPA_IN_LAST_MONTH                    19765 non-null  int64         \n",
      " 48  NPA_IN_CURRENT_MONTH                 19765 non-null  int64         \n",
      " 49  MOB                                  19765 non-null  int64         \n",
      " 50  FORECLOSURE                          19765 non-null  int64         \n",
      "dtypes: datetime64[ns](3), float64(29), int64(17), object(2)\n",
      "memory usage: 7.7+ MB\n"
     ]
    }
   ],
   "source": [
    "DF.info()"
   ]
  },
  {
   "cell_type": "code",
   "execution_count": 6,
   "id": "058624a8",
   "metadata": {},
   "outputs": [],
   "source": [
    "# Dropping the unimportant columns.\n",
    "DF.drop(['AUTHORIZATIONDATE','CITY','CURRENT_INTEREST_RATE_MIN','CURRENT_INTEREST_RATE_CHANGES','COMPLETED_TENURE','CURRENT_TENOR','BALANCE_EXCESS','CURRENT_INTEREST_RATE','DIFF_EMI_AMOUNT_MAX_MIN','DIFF_CURRENT_INTEREST_RATE_MAX_MIN','DIFF_AUTH_INT_DATE','DIFF_ORIGINAL_CURRENT_TENOR','DIFF_ORIGINAL_CURRENT_INTEREST_RATE','EMI_AMOUNT','EMI_RECEIVED_AMT','EXCESS_ADJUSTED_AMT','EXCESS_AVAILABLE','INTEREST_START_DATE','LAST_RECEIPT_DATE','LAST_RECEIPT_AMOUNT','LATEST_TRANSACTION_MONTH','MIN_EMI_AMOUNT','MAX_EMI_AMOUNT','MONTHOPENING','NUM_LOW_FREQ_TRANSACTIONS','LOAN_AMT','ORIGNAL_INTEREST_RATE','ORIGNAL_TENOR','PAID_INTEREST','PAID_PRINCIPAL','PRE_EMI_DUEAMT','PRE_EMI_OS_AMOUNT','PRE_EMI_RECEIVED_AMT','MOB','NPA_IN_LAST_MONTH','NET_DISBURSED_AMT','NUM_EMI_CHANGES','Unnamed: 0'], inplace=True, axis = 1)"
   ]
  },
  {
   "cell_type": "code",
   "execution_count": 7,
   "id": "0ee92745",
   "metadata": {},
   "outputs": [],
   "source": [
    "DF['DUEDAY'] = DF['DUEDAY'].astype('category')"
   ]
  },
  {
   "cell_type": "code",
   "execution_count": 8,
   "id": "b7003bbc",
   "metadata": {},
   "outputs": [
    {
     "name": "stdout",
     "output_type": "stream",
     "text": [
      "<class 'pandas.core.frame.DataFrame'>\n",
      "RangeIndex: 19765 entries, 0 to 19764\n",
      "Data columns (total 13 columns):\n",
      " #   Column                     Non-Null Count  Dtype   \n",
      "---  ------                     --------------  -----   \n",
      " 0   BALANCE_TENURE             19765 non-null  int64   \n",
      " 1   CURRENT_INTEREST_RATE_MAX  19765 non-null  float64 \n",
      " 2   DPD                        19765 non-null  int64   \n",
      " 3   DUEDAY                     19765 non-null  category\n",
      " 4   EMI_DUEAMT                 19765 non-null  float64 \n",
      " 5   EMI_OS_AMOUNT              19765 non-null  float64 \n",
      " 6   FOIR                       19765 non-null  float64 \n",
      " 7   NET_LTV                    19765 non-null  float64 \n",
      " 8   NET_RECEIVABLE             19765 non-null  float64 \n",
      " 9   OUTSTANDING_PRINCIPAL      19765 non-null  float64 \n",
      " 10  PRODUCT                    19765 non-null  object  \n",
      " 11  NPA_IN_CURRENT_MONTH       19765 non-null  int64   \n",
      " 12  FORECLOSURE                19765 non-null  int64   \n",
      "dtypes: category(1), float64(7), int64(4), object(1)\n",
      "memory usage: 1.8+ MB\n"
     ]
    }
   ],
   "source": [
    "DF.info()"
   ]
  },
  {
   "cell_type": "code",
   "execution_count": 9,
   "id": "d18a7be5",
   "metadata": {},
   "outputs": [
    {
     "data": {
      "text/html": [
       "<div>\n",
       "<style scoped>\n",
       "    .dataframe tbody tr th:only-of-type {\n",
       "        vertical-align: middle;\n",
       "    }\n",
       "\n",
       "    .dataframe tbody tr th {\n",
       "        vertical-align: top;\n",
       "    }\n",
       "\n",
       "    .dataframe thead th {\n",
       "        text-align: right;\n",
       "    }\n",
       "</style>\n",
       "<table border=\"1\" class=\"dataframe\">\n",
       "  <thead>\n",
       "    <tr style=\"text-align: right;\">\n",
       "      <th></th>\n",
       "      <th>BALANCE_TENURE</th>\n",
       "      <th>CURRENT_INTEREST_RATE_MAX</th>\n",
       "      <th>DPD</th>\n",
       "      <th>EMI_DUEAMT</th>\n",
       "      <th>EMI_OS_AMOUNT</th>\n",
       "      <th>FOIR</th>\n",
       "      <th>NET_LTV</th>\n",
       "      <th>NET_RECEIVABLE</th>\n",
       "      <th>OUTSTANDING_PRINCIPAL</th>\n",
       "      <th>NPA_IN_CURRENT_MONTH</th>\n",
       "      <th>FORECLOSURE</th>\n",
       "    </tr>\n",
       "  </thead>\n",
       "  <tbody>\n",
       "    <tr>\n",
       "      <th>BALANCE_TENURE</th>\n",
       "      <td>1.000000</td>\n",
       "      <td>-0.430190</td>\n",
       "      <td>-0.057513</td>\n",
       "      <td>-0.213403</td>\n",
       "      <td>-0.022318</td>\n",
       "      <td>-0.013433</td>\n",
       "      <td>0.278831</td>\n",
       "      <td>0.002239</td>\n",
       "      <td>0.002870</td>\n",
       "      <td>-0.052916</td>\n",
       "      <td>-0.044968</td>\n",
       "    </tr>\n",
       "    <tr>\n",
       "      <th>CURRENT_INTEREST_RATE_MAX</th>\n",
       "      <td>-0.430190</td>\n",
       "      <td>1.000000</td>\n",
       "      <td>0.093297</td>\n",
       "      <td>0.117767</td>\n",
       "      <td>0.036097</td>\n",
       "      <td>-0.001570</td>\n",
       "      <td>-0.333309</td>\n",
       "      <td>0.020091</td>\n",
       "      <td>-0.062065</td>\n",
       "      <td>0.082952</td>\n",
       "      <td>0.024785</td>\n",
       "    </tr>\n",
       "    <tr>\n",
       "      <th>DPD</th>\n",
       "      <td>-0.057513</td>\n",
       "      <td>0.093297</td>\n",
       "      <td>1.000000</td>\n",
       "      <td>0.071465</td>\n",
       "      <td>0.562685</td>\n",
       "      <td>-0.000816</td>\n",
       "      <td>0.017445</td>\n",
       "      <td>0.153809</td>\n",
       "      <td>0.014979</td>\n",
       "      <td>0.779476</td>\n",
       "      <td>0.011488</td>\n",
       "    </tr>\n",
       "    <tr>\n",
       "      <th>EMI_DUEAMT</th>\n",
       "      <td>-0.213403</td>\n",
       "      <td>0.117767</td>\n",
       "      <td>0.071465</td>\n",
       "      <td>1.000000</td>\n",
       "      <td>0.160546</td>\n",
       "      <td>0.006721</td>\n",
       "      <td>-0.000045</td>\n",
       "      <td>0.003139</td>\n",
       "      <td>0.535541</td>\n",
       "      <td>0.052096</td>\n",
       "      <td>0.028713</td>\n",
       "    </tr>\n",
       "    <tr>\n",
       "      <th>EMI_OS_AMOUNT</th>\n",
       "      <td>-0.022318</td>\n",
       "      <td>0.036097</td>\n",
       "      <td>0.562685</td>\n",
       "      <td>0.160546</td>\n",
       "      <td>1.000000</td>\n",
       "      <td>-0.000345</td>\n",
       "      <td>0.015003</td>\n",
       "      <td>0.218590</td>\n",
       "      <td>0.086674</td>\n",
       "      <td>0.369873</td>\n",
       "      <td>-0.004154</td>\n",
       "    </tr>\n",
       "    <tr>\n",
       "      <th>FOIR</th>\n",
       "      <td>-0.013433</td>\n",
       "      <td>-0.001570</td>\n",
       "      <td>-0.000816</td>\n",
       "      <td>0.006721</td>\n",
       "      <td>-0.000345</td>\n",
       "      <td>1.000000</td>\n",
       "      <td>-0.007264</td>\n",
       "      <td>0.000250</td>\n",
       "      <td>0.017899</td>\n",
       "      <td>-0.000725</td>\n",
       "      <td>-0.002209</td>\n",
       "    </tr>\n",
       "    <tr>\n",
       "      <th>NET_LTV</th>\n",
       "      <td>0.278831</td>\n",
       "      <td>-0.333309</td>\n",
       "      <td>0.017445</td>\n",
       "      <td>-0.000045</td>\n",
       "      <td>0.015003</td>\n",
       "      <td>-0.007264</td>\n",
       "      <td>1.000000</td>\n",
       "      <td>0.004664</td>\n",
       "      <td>0.046680</td>\n",
       "      <td>0.018666</td>\n",
       "      <td>-0.000287</td>\n",
       "    </tr>\n",
       "    <tr>\n",
       "      <th>NET_RECEIVABLE</th>\n",
       "      <td>0.002239</td>\n",
       "      <td>0.020091</td>\n",
       "      <td>0.153809</td>\n",
       "      <td>0.003139</td>\n",
       "      <td>0.218590</td>\n",
       "      <td>0.000250</td>\n",
       "      <td>0.004664</td>\n",
       "      <td>1.000000</td>\n",
       "      <td>-0.069346</td>\n",
       "      <td>0.103141</td>\n",
       "      <td>-0.016446</td>\n",
       "    </tr>\n",
       "    <tr>\n",
       "      <th>OUTSTANDING_PRINCIPAL</th>\n",
       "      <td>0.002870</td>\n",
       "      <td>-0.062065</td>\n",
       "      <td>0.014979</td>\n",
       "      <td>0.535541</td>\n",
       "      <td>0.086674</td>\n",
       "      <td>0.017899</td>\n",
       "      <td>0.046680</td>\n",
       "      <td>-0.069346</td>\n",
       "      <td>1.000000</td>\n",
       "      <td>0.013222</td>\n",
       "      <td>0.002150</td>\n",
       "    </tr>\n",
       "    <tr>\n",
       "      <th>NPA_IN_CURRENT_MONTH</th>\n",
       "      <td>-0.052916</td>\n",
       "      <td>0.082952</td>\n",
       "      <td>0.779476</td>\n",
       "      <td>0.052096</td>\n",
       "      <td>0.369873</td>\n",
       "      <td>-0.000725</td>\n",
       "      <td>0.018666</td>\n",
       "      <td>0.103141</td>\n",
       "      <td>0.013222</td>\n",
       "      <td>1.000000</td>\n",
       "      <td>0.010471</td>\n",
       "    </tr>\n",
       "  </tbody>\n",
       "</table>\n",
       "</div>"
      ],
      "text/plain": [
       "                           BALANCE_TENURE  CURRENT_INTEREST_RATE_MAX  \\\n",
       "BALANCE_TENURE                   1.000000                  -0.430190   \n",
       "CURRENT_INTEREST_RATE_MAX       -0.430190                   1.000000   \n",
       "DPD                             -0.057513                   0.093297   \n",
       "EMI_DUEAMT                      -0.213403                   0.117767   \n",
       "EMI_OS_AMOUNT                   -0.022318                   0.036097   \n",
       "FOIR                            -0.013433                  -0.001570   \n",
       "NET_LTV                          0.278831                  -0.333309   \n",
       "NET_RECEIVABLE                   0.002239                   0.020091   \n",
       "OUTSTANDING_PRINCIPAL            0.002870                  -0.062065   \n",
       "NPA_IN_CURRENT_MONTH            -0.052916                   0.082952   \n",
       "\n",
       "                                DPD  EMI_DUEAMT  EMI_OS_AMOUNT      FOIR  \\\n",
       "BALANCE_TENURE            -0.057513   -0.213403      -0.022318 -0.013433   \n",
       "CURRENT_INTEREST_RATE_MAX  0.093297    0.117767       0.036097 -0.001570   \n",
       "DPD                        1.000000    0.071465       0.562685 -0.000816   \n",
       "EMI_DUEAMT                 0.071465    1.000000       0.160546  0.006721   \n",
       "EMI_OS_AMOUNT              0.562685    0.160546       1.000000 -0.000345   \n",
       "FOIR                      -0.000816    0.006721      -0.000345  1.000000   \n",
       "NET_LTV                    0.017445   -0.000045       0.015003 -0.007264   \n",
       "NET_RECEIVABLE             0.153809    0.003139       0.218590  0.000250   \n",
       "OUTSTANDING_PRINCIPAL      0.014979    0.535541       0.086674  0.017899   \n",
       "NPA_IN_CURRENT_MONTH       0.779476    0.052096       0.369873 -0.000725   \n",
       "\n",
       "                            NET_LTV  NET_RECEIVABLE  OUTSTANDING_PRINCIPAL  \\\n",
       "BALANCE_TENURE             0.278831        0.002239               0.002870   \n",
       "CURRENT_INTEREST_RATE_MAX -0.333309        0.020091              -0.062065   \n",
       "DPD                        0.017445        0.153809               0.014979   \n",
       "EMI_DUEAMT                -0.000045        0.003139               0.535541   \n",
       "EMI_OS_AMOUNT              0.015003        0.218590               0.086674   \n",
       "FOIR                      -0.007264        0.000250               0.017899   \n",
       "NET_LTV                    1.000000        0.004664               0.046680   \n",
       "NET_RECEIVABLE             0.004664        1.000000              -0.069346   \n",
       "OUTSTANDING_PRINCIPAL      0.046680       -0.069346               1.000000   \n",
       "NPA_IN_CURRENT_MONTH       0.018666        0.103141               0.013222   \n",
       "\n",
       "                           NPA_IN_CURRENT_MONTH  FORECLOSURE  \n",
       "BALANCE_TENURE                        -0.052916    -0.044968  \n",
       "CURRENT_INTEREST_RATE_MAX              0.082952     0.024785  \n",
       "DPD                                    0.779476     0.011488  \n",
       "EMI_DUEAMT                             0.052096     0.028713  \n",
       "EMI_OS_AMOUNT                          0.369873    -0.004154  \n",
       "FOIR                                  -0.000725    -0.002209  \n",
       "NET_LTV                                0.018666    -0.000287  \n",
       "NET_RECEIVABLE                         0.103141    -0.016446  \n",
       "OUTSTANDING_PRINCIPAL                  0.013222     0.002150  \n",
       "NPA_IN_CURRENT_MONTH                   1.000000     0.010471  "
      ]
     },
     "execution_count": 9,
     "metadata": {},
     "output_type": "execute_result"
    }
   ],
   "source": [
    "# Correlation matrix\n",
    "cor = DF.corr().drop(['FORECLOSURE'])\n",
    "cor\n"
   ]
  },
  {
   "cell_type": "code",
   "execution_count": 10,
   "id": "817e4c95",
   "metadata": {
    "scrolled": true
   },
   "outputs": [
    {
     "data": {
      "image/png": "[encoded data removed]",
      "text/plain": [
       "<Figure size 2880x2880 with 2 Axes>"
      ]
     },
     "metadata": {
      "needs_background": "light"
     },
     "output_type": "display_data"
    }
   ],
   "source": [
    "    # View heat map of the correlation matrix\n",
    "fig, ax = plt.subplots(figsize=(40,40))\n",
    "sns.heatmap(cor, vmin = -1, vmax = 1, cmap = 'plasma', annot = True);"
   ]
  },
  {
   "cell_type": "code",
   "execution_count": 11,
   "id": "e9a59cd9",
   "metadata": {},
   "outputs": [],
   "source": [
    "num_cols=['BALANCE_TENURE','CURRENT_INTEREST_RATE_MAX','FOIR','NET_LTV','OUTSTANDING_PRINCIPAL','EMI_DUEAMT','EMI_OS_AMOUNT','NET_RECEIVABLE','NPA_IN_CURRENT_MONTH']\n",
    "cat_cols= ['FORECLOSURE','PRODUCT','DUEDAY']"
   ]
  },
  {
   "cell_type": "code",
   "execution_count": 12,
   "id": "d6c72e18",
   "metadata": {},
   "outputs": [],
   "source": [
    "def remove_outlier(col):\n",
    "    Q1,Q3 = np.percentile(col,[25, 75])\n",
    "    IQR = Q3 - Q1\n",
    "    lower_range= Q1 - (1.5 * IQR)\n",
    "    upper_range= Q3 + (1.5 * IQR)\n",
    "    edited_col = np.clip(col, a_min = lower_range, a_max = upper_range)\n",
    "    return edited_col"
   ]
  },
  {
   "cell_type": "code",
   "execution_count": 13,
   "id": "fbb8572c",
   "metadata": {},
   "outputs": [
    {
     "data": {
      "image/png": "[encoded data removed]",
      "text/plain": [
       "<Figure size 504x360 with 1 Axes>"
      ]
     },
     "metadata": {
      "needs_background": "light"
     },
     "output_type": "display_data"
    }
   ],
   "source": [
    "plt.boxplot(DF['FOIR'], vert = False)\n",
    "plt.show()"
   ]
  },
  {
   "cell_type": "code",
   "execution_count": 14,
   "id": "14f406c3",
   "metadata": {},
   "outputs": [
    {
     "data": {
      "image/png": "[encoded data removed]",
      "text/plain": [
       "<Figure size 504x360 with 1 Axes>"
      ]
     },
     "metadata": {
      "needs_background": "light"
     },
     "output_type": "display_data"
    }
   ],
   "source": [
    "plt.boxplot(remove_outlier(DF['FOIR']), vert = False)\n",
    "plt.show()"
   ]
  },
  {
   "cell_type": "code",
   "execution_count": 15,
   "id": "c47c48f3",
   "metadata": {},
   "outputs": [],
   "source": [
    "DF['FOIR'] = remove_outlier(DF['FOIR'])"
   ]
  },
  {
   "cell_type": "code",
   "execution_count": 16,
   "id": "dea22827",
   "metadata": {},
   "outputs": [
    {
     "data": {
      "text/html": [
       "<div>\n",
       "<style scoped>\n",
       "    .dataframe tbody tr th:only-of-type {\n",
       "        vertical-align: middle;\n",
       "    }\n",
       "\n",
       "    .dataframe tbody tr th {\n",
       "        vertical-align: top;\n",
       "    }\n",
       "\n",
       "    .dataframe thead th {\n",
       "        text-align: right;\n",
       "    }\n",
       "</style>\n",
       "<table border=\"1\" class=\"dataframe\">\n",
       "  <thead>\n",
       "    <tr style=\"text-align: right;\">\n",
       "      <th></th>\n",
       "      <th>BALANCE_TENURE</th>\n",
       "      <th>CURRENT_INTEREST_RATE_MAX</th>\n",
       "      <th>DPD</th>\n",
       "      <th>EMI_DUEAMT</th>\n",
       "      <th>EMI_OS_AMOUNT</th>\n",
       "      <th>FOIR</th>\n",
       "      <th>NET_LTV</th>\n",
       "      <th>NET_RECEIVABLE</th>\n",
       "      <th>OUTSTANDING_PRINCIPAL</th>\n",
       "      <th>NPA_IN_CURRENT_MONTH</th>\n",
       "      <th>FORECLOSURE</th>\n",
       "      <th>DUEDAY_5</th>\n",
       "      <th>DUEDAY_15</th>\n",
       "      <th>PRODUCT_LAP</th>\n",
       "      <th>PRODUCT_STHL</th>\n",
       "      <th>PRODUCT_STLAP</th>\n",
       "    </tr>\n",
       "  </thead>\n",
       "  <tbody>\n",
       "    <tr>\n",
       "      <th>0</th>\n",
       "      <td>0</td>\n",
       "      <td>13.734072</td>\n",
       "      <td>0</td>\n",
       "      <td>8.614898e+06</td>\n",
       "      <td>175477.782641</td>\n",
       "      <td>0.60</td>\n",
       "      <td>40.06</td>\n",
       "      <td>175477.782641</td>\n",
       "      <td>1.164472e+05</td>\n",
       "      <td>0</td>\n",
       "      <td>1</td>\n",
       "      <td>0</td>\n",
       "      <td>0</td>\n",
       "      <td>0</td>\n",
       "      <td>0</td>\n",
       "      <td>0</td>\n",
       "    </tr>\n",
       "    <tr>\n",
       "      <th>1</th>\n",
       "      <td>99</td>\n",
       "      <td>13.734072</td>\n",
       "      <td>0</td>\n",
       "      <td>1.061903e+07</td>\n",
       "      <td>279448.084560</td>\n",
       "      <td>0.60</td>\n",
       "      <td>84.31</td>\n",
       "      <td>279448.084560</td>\n",
       "      <td>1.234760e+07</td>\n",
       "      <td>0</td>\n",
       "      <td>1</td>\n",
       "      <td>0</td>\n",
       "      <td>0</td>\n",
       "      <td>0</td>\n",
       "      <td>0</td>\n",
       "      <td>0</td>\n",
       "    </tr>\n",
       "    <tr>\n",
       "      <th>2</th>\n",
       "      <td>231</td>\n",
       "      <td>16.231176</td>\n",
       "      <td>0</td>\n",
       "      <td>4.670211e+06</td>\n",
       "      <td>0.000000</td>\n",
       "      <td>0.72</td>\n",
       "      <td>50.89</td>\n",
       "      <td>0.000000</td>\n",
       "      <td>2.994184e+06</td>\n",
       "      <td>0</td>\n",
       "      <td>1</td>\n",
       "      <td>1</td>\n",
       "      <td>0</td>\n",
       "      <td>0</td>\n",
       "      <td>0</td>\n",
       "      <td>0</td>\n",
       "    </tr>\n",
       "    <tr>\n",
       "      <th>3</th>\n",
       "      <td>0</td>\n",
       "      <td>13.734072</td>\n",
       "      <td>0</td>\n",
       "      <td>1.313098e+07</td>\n",
       "      <td>63659.280762</td>\n",
       "      <td>0.60</td>\n",
       "      <td>84.63</td>\n",
       "      <td>63659.280762</td>\n",
       "      <td>4.295120e+04</td>\n",
       "      <td>0</td>\n",
       "      <td>1</td>\n",
       "      <td>0</td>\n",
       "      <td>0</td>\n",
       "      <td>0</td>\n",
       "      <td>0</td>\n",
       "      <td>0</td>\n",
       "    </tr>\n",
       "    <tr>\n",
       "      <th>4</th>\n",
       "      <td>215</td>\n",
       "      <td>15.606900</td>\n",
       "      <td>0</td>\n",
       "      <td>1.048923e+07</td>\n",
       "      <td>0.000000</td>\n",
       "      <td>0.83</td>\n",
       "      <td>30.94</td>\n",
       "      <td>0.000000</td>\n",
       "      <td>7.200653e+06</td>\n",
       "      <td>0</td>\n",
       "      <td>1</td>\n",
       "      <td>1</td>\n",
       "      <td>0</td>\n",
       "      <td>0</td>\n",
       "      <td>0</td>\n",
       "      <td>0</td>\n",
       "    </tr>\n",
       "  </tbody>\n",
       "</table>\n",
       "</div>"
      ],
      "text/plain": [
       "   BALANCE_TENURE  CURRENT_INTEREST_RATE_MAX  DPD    EMI_DUEAMT  \\\n",
       "0               0                  13.734072    0  8.614898e+06   \n",
       "1              99                  13.734072    0  1.061903e+07   \n",
       "2             231                  16.231176    0  4.670211e+06   \n",
       "3               0                  13.734072    0  1.313098e+07   \n",
       "4             215                  15.606900    0  1.048923e+07   \n",
       "\n",
       "   EMI_OS_AMOUNT  FOIR  NET_LTV  NET_RECEIVABLE  OUTSTANDING_PRINCIPAL  \\\n",
       "0  175477.782641  0.60    40.06   175477.782641           1.164472e+05   \n",
       "1  279448.084560  0.60    84.31   279448.084560           1.234760e+07   \n",
       "2       0.000000  0.72    50.89        0.000000           2.994184e+06   \n",
       "3   63659.280762  0.60    84.63    63659.280762           4.295120e+04   \n",
       "4       0.000000  0.83    30.94        0.000000           7.200653e+06   \n",
       "\n",
       "   NPA_IN_CURRENT_MONTH  FORECLOSURE  DUEDAY_5  DUEDAY_15  PRODUCT_LAP  \\\n",
       "0                     0            1         0          0            0   \n",
       "1                     0            1         0          0            0   \n",
       "2                     0            1         1          0            0   \n",
       "3                     0            1         0          0            0   \n",
       "4                     0            1         1          0            0   \n",
       "\n",
       "   PRODUCT_STHL  PRODUCT_STLAP  \n",
       "0             0              0  \n",
       "1             0              0  \n",
       "2             0              0  \n",
       "3             0              0  \n",
       "4             0              0  "
      ]
     },
     "execution_count": 16,
     "metadata": {},
     "output_type": "execute_result"
    }
   ],
   "source": [
    "DF = pd.get_dummies(DF, drop_first=True)\n",
    "DF.head()"
   ]
  },
  {
   "cell_type": "code",
   "execution_count": 17,
   "id": "3d71381c",
   "metadata": {},
   "outputs": [],
   "source": [
    "X = DF.drop('FORECLOSURE', axis=1)\n",
    "y = DF['FORECLOSURE']"
   ]
  },
  {
   "cell_type": "markdown",
   "id": "39372823",
   "metadata": {},
   "source": [
    "# Train Test Split"
   ]
  },
  {
   "cell_type": "code",
   "execution_count": 18,
   "id": "3dd3b77e",
   "metadata": {},
   "outputs": [],
   "source": [
    "from sklearn.model_selection import train_test_split"
   ]
  },
  {
   "cell_type": "code",
   "execution_count": 19,
   "id": "5f74a752",
   "metadata": {},
   "outputs": [],
   "source": [
    "X_train, X_test, y_train, y_test = train_test_split(X, y, test_size = 0.30, random_state = 10, stratify = y)"
   ]
  },
  {
   "cell_type": "code",
   "execution_count": 20,
   "id": "44c7e384",
   "metadata": {},
   "outputs": [
    {
     "data": {
      "text/html": [
       "<div>\n",
       "<style scoped>\n",
       "    .dataframe tbody tr th:only-of-type {\n",
       "        vertical-align: middle;\n",
       "    }\n",
       "\n",
       "    .dataframe tbody tr th {\n",
       "        vertical-align: top;\n",
       "    }\n",
       "\n",
       "    .dataframe thead th {\n",
       "        text-align: right;\n",
       "    }\n",
       "</style>\n",
       "<table border=\"1\" class=\"dataframe\">\n",
       "  <thead>\n",
       "    <tr style=\"text-align: right;\">\n",
       "      <th></th>\n",
       "      <th>BALANCE_TENURE</th>\n",
       "      <th>CURRENT_INTEREST_RATE_MAX</th>\n",
       "      <th>DPD</th>\n",
       "      <th>EMI_DUEAMT</th>\n",
       "      <th>EMI_OS_AMOUNT</th>\n",
       "      <th>FOIR</th>\n",
       "      <th>NET_LTV</th>\n",
       "      <th>NET_RECEIVABLE</th>\n",
       "      <th>OUTSTANDING_PRINCIPAL</th>\n",
       "      <th>NPA_IN_CURRENT_MONTH</th>\n",
       "      <th>DUEDAY_5</th>\n",
       "      <th>DUEDAY_15</th>\n",
       "      <th>PRODUCT_LAP</th>\n",
       "      <th>PRODUCT_STHL</th>\n",
       "      <th>PRODUCT_STLAP</th>\n",
       "    </tr>\n",
       "  </thead>\n",
       "  <tbody>\n",
       "    <tr>\n",
       "      <th>18326</th>\n",
       "      <td>117</td>\n",
       "      <td>19.602266</td>\n",
       "      <td>0</td>\n",
       "      <td>1.152467e+05</td>\n",
       "      <td>0.0</td>\n",
       "      <td>0.55</td>\n",
       "      <td>44.93</td>\n",
       "      <td>0.000000</td>\n",
       "      <td>1.559678e+06</td>\n",
       "      <td>0</td>\n",
       "      <td>1</td>\n",
       "      <td>0</td>\n",
       "      <td>0</td>\n",
       "      <td>0</td>\n",
       "      <td>1</td>\n",
       "    </tr>\n",
       "    <tr>\n",
       "      <th>6665</th>\n",
       "      <td>154</td>\n",
       "      <td>12.011070</td>\n",
       "      <td>0</td>\n",
       "      <td>6.219415e+05</td>\n",
       "      <td>0.0</td>\n",
       "      <td>0.33</td>\n",
       "      <td>63.78</td>\n",
       "      <td>0.000000</td>\n",
       "      <td>1.435144e+06</td>\n",
       "      <td>0</td>\n",
       "      <td>1</td>\n",
       "      <td>0</td>\n",
       "      <td>0</td>\n",
       "      <td>1</td>\n",
       "      <td>0</td>\n",
       "    </tr>\n",
       "    <tr>\n",
       "      <th>17043</th>\n",
       "      <td>207</td>\n",
       "      <td>14.358348</td>\n",
       "      <td>0</td>\n",
       "      <td>2.134345e+04</td>\n",
       "      <td>0.0</td>\n",
       "      <td>0.39</td>\n",
       "      <td>16.65</td>\n",
       "      <td>-260.609136</td>\n",
       "      <td>3.255335e+05</td>\n",
       "      <td>0</td>\n",
       "      <td>1</td>\n",
       "      <td>0</td>\n",
       "      <td>1</td>\n",
       "      <td>0</td>\n",
       "      <td>0</td>\n",
       "    </tr>\n",
       "    <tr>\n",
       "      <th>17678</th>\n",
       "      <td>207</td>\n",
       "      <td>13.734072</td>\n",
       "      <td>0</td>\n",
       "      <td>1.958014e+05</td>\n",
       "      <td>0.0</td>\n",
       "      <td>0.41</td>\n",
       "      <td>61.11</td>\n",
       "      <td>0.000000</td>\n",
       "      <td>4.105786e+06</td>\n",
       "      <td>0</td>\n",
       "      <td>1</td>\n",
       "      <td>0</td>\n",
       "      <td>1</td>\n",
       "      <td>0</td>\n",
       "      <td>0</td>\n",
       "    </tr>\n",
       "    <tr>\n",
       "      <th>6513</th>\n",
       "      <td>88</td>\n",
       "      <td>16.418459</td>\n",
       "      <td>0</td>\n",
       "      <td>3.544342e+06</td>\n",
       "      <td>0.0</td>\n",
       "      <td>0.28</td>\n",
       "      <td>61.18</td>\n",
       "      <td>0.000000</td>\n",
       "      <td>4.992082e+06</td>\n",
       "      <td>0</td>\n",
       "      <td>1</td>\n",
       "      <td>0</td>\n",
       "      <td>1</td>\n",
       "      <td>0</td>\n",
       "      <td>0</td>\n",
       "    </tr>\n",
       "  </tbody>\n",
       "</table>\n",
       "</div>"
      ],
      "text/plain": [
       "       BALANCE_TENURE  CURRENT_INTEREST_RATE_MAX  DPD    EMI_DUEAMT  \\\n",
       "18326             117                  19.602266    0  1.152467e+05   \n",
       "6665              154                  12.011070    0  6.219415e+05   \n",
       "17043             207                  14.358348    0  2.134345e+04   \n",
       "17678             207                  13.734072    0  1.958014e+05   \n",
       "6513               88                  16.418459    0  3.544342e+06   \n",
       "\n",
       "       EMI_OS_AMOUNT  FOIR  NET_LTV  NET_RECEIVABLE  OUTSTANDING_PRINCIPAL  \\\n",
       "18326            0.0  0.55    44.93        0.000000           1.559678e+06   \n",
       "6665             0.0  0.33    63.78        0.000000           1.435144e+06   \n",
       "17043            0.0  0.39    16.65     -260.609136           3.255335e+05   \n",
       "17678            0.0  0.41    61.11        0.000000           4.105786e+06   \n",
       "6513             0.0  0.28    61.18        0.000000           4.992082e+06   \n",
       "\n",
       "       NPA_IN_CURRENT_MONTH  DUEDAY_5  DUEDAY_15  PRODUCT_LAP  PRODUCT_STHL  \\\n",
       "18326                     0         1          0            0             0   \n",
       "6665                      0         1          0            0             1   \n",
       "17043                     0         1          0            1             0   \n",
       "17678                     0         1          0            1             0   \n",
       "6513                      0         1          0            1             0   \n",
       "\n",
       "       PRODUCT_STLAP  \n",
       "18326              1  \n",
       "6665               0  \n",
       "17043              0  \n",
       "17678              0  \n",
       "6513               0  "
      ]
     },
     "execution_count": 20,
     "metadata": {},
     "output_type": "execute_result"
    }
   ],
   "source": [
    "X_train.head()"
   ]
  },
  {
   "cell_type": "code",
   "execution_count": 21,
   "id": "2c00638f",
   "metadata": {},
   "outputs": [],
   "source": [
    "test2 = pd.concat([X_test,y_test],axis=1, join='inner')"
   ]
  },
  {
   "cell_type": "code",
   "execution_count": 22,
   "id": "7cb6a4b7",
   "metadata": {},
   "outputs": [],
   "source": [
    "path = 'testdata.csv'\n",
    "test2.to_csv(path)"
   ]
  },
  {
   "cell_type": "code",
   "execution_count": 23,
   "id": "55aed2b9",
   "metadata": {},
   "outputs": [],
   "source": [
    "from sklearn.preprocessing import StandardScaler\n",
    "xtrain,xtest,ytrain,ytest= train_test_split(X,y, test_size=0.3,random_state=10)\n",
    "ss= StandardScaler()\n"
   ]
  },
  {
   "cell_type": "code",
   "execution_count": 24,
   "id": "0fb99250",
   "metadata": {},
   "outputs": [
    {
     "data": {
      "text/html": [
       "<div>\n",
       "<style scoped>\n",
       "    .dataframe tbody tr th:only-of-type {\n",
       "        vertical-align: middle;\n",
       "    }\n",
       "\n",
       "    .dataframe tbody tr th {\n",
       "        vertical-align: top;\n",
       "    }\n",
       "\n",
       "    .dataframe thead th {\n",
       "        text-align: right;\n",
       "    }\n",
       "</style>\n",
       "<table border=\"1\" class=\"dataframe\">\n",
       "  <thead>\n",
       "    <tr style=\"text-align: right;\">\n",
       "      <th></th>\n",
       "      <th>BALANCE_TENURE</th>\n",
       "      <th>CURRENT_INTEREST_RATE_MAX</th>\n",
       "      <th>DPD</th>\n",
       "      <th>EMI_DUEAMT</th>\n",
       "      <th>EMI_OS_AMOUNT</th>\n",
       "      <th>FOIR</th>\n",
       "      <th>NET_LTV</th>\n",
       "      <th>NET_RECEIVABLE</th>\n",
       "      <th>OUTSTANDING_PRINCIPAL</th>\n",
       "      <th>NPA_IN_CURRENT_MONTH</th>\n",
       "      <th>DUEDAY_5</th>\n",
       "      <th>DUEDAY_15</th>\n",
       "      <th>PRODUCT_LAP</th>\n",
       "      <th>PRODUCT_STHL</th>\n",
       "      <th>PRODUCT_STLAP</th>\n",
       "    </tr>\n",
       "  </thead>\n",
       "  <tbody>\n",
       "    <tr>\n",
       "      <th>18326</th>\n",
       "      <td>-0.886787</td>\n",
       "      <td>1.904661</td>\n",
       "      <td>0</td>\n",
       "      <td>-0.297913</td>\n",
       "      <td>-0.044958</td>\n",
       "      <td>-0.044210</td>\n",
       "      <td>-0.298962</td>\n",
       "      <td>0.037357</td>\n",
       "      <td>-0.310021</td>\n",
       "      <td>-0.102557</td>\n",
       "      <td>1</td>\n",
       "      <td>0</td>\n",
       "      <td>0</td>\n",
       "      <td>0</td>\n",
       "      <td>1</td>\n",
       "    </tr>\n",
       "    <tr>\n",
       "      <th>6665</th>\n",
       "      <td>-0.305221</td>\n",
       "      <td>-1.177216</td>\n",
       "      <td>0</td>\n",
       "      <td>-0.217825</td>\n",
       "      <td>-0.044958</td>\n",
       "      <td>-1.013922</td>\n",
       "      <td>0.591092</td>\n",
       "      <td>0.037357</td>\n",
       "      <td>-0.320727</td>\n",
       "      <td>-0.102557</td>\n",
       "      <td>1</td>\n",
       "      <td>0</td>\n",
       "      <td>0</td>\n",
       "      <td>1</td>\n",
       "      <td>0</td>\n",
       "    </tr>\n",
       "    <tr>\n",
       "      <th>17043</th>\n",
       "      <td>0.527832</td>\n",
       "      <td>-0.224267</td>\n",
       "      <td>0</td>\n",
       "      <td>-0.312756</td>\n",
       "      <td>-0.044958</td>\n",
       "      <td>-0.749455</td>\n",
       "      <td>-1.634277</td>\n",
       "      <td>0.037181</td>\n",
       "      <td>-0.416114</td>\n",
       "      <td>-0.102557</td>\n",
       "      <td>1</td>\n",
       "      <td>0</td>\n",
       "      <td>1</td>\n",
       "      <td>0</td>\n",
       "      <td>0</td>\n",
       "    </tr>\n",
       "    <tr>\n",
       "      <th>17678</th>\n",
       "      <td>0.527832</td>\n",
       "      <td>-0.477711</td>\n",
       "      <td>0</td>\n",
       "      <td>-0.285181</td>\n",
       "      <td>-0.044958</td>\n",
       "      <td>-0.661299</td>\n",
       "      <td>0.465020</td>\n",
       "      <td>0.037357</td>\n",
       "      <td>-0.091146</td>\n",
       "      <td>-0.102557</td>\n",
       "      <td>1</td>\n",
       "      <td>0</td>\n",
       "      <td>1</td>\n",
       "      <td>0</td>\n",
       "      <td>0</td>\n",
       "    </tr>\n",
       "    <tr>\n",
       "      <th>6513</th>\n",
       "      <td>-1.342608</td>\n",
       "      <td>0.612097</td>\n",
       "      <td>0</td>\n",
       "      <td>0.244089</td>\n",
       "      <td>-0.044958</td>\n",
       "      <td>-1.234311</td>\n",
       "      <td>0.468326</td>\n",
       "      <td>0.037357</td>\n",
       "      <td>-0.014956</td>\n",
       "      <td>-0.102557</td>\n",
       "      <td>1</td>\n",
       "      <td>0</td>\n",
       "      <td>1</td>\n",
       "      <td>0</td>\n",
       "      <td>0</td>\n",
       "    </tr>\n",
       "  </tbody>\n",
       "</table>\n",
       "</div>"
      ],
      "text/plain": [
       "       BALANCE_TENURE  CURRENT_INTEREST_RATE_MAX  DPD  EMI_DUEAMT  \\\n",
       "18326       -0.886787                   1.904661    0   -0.297913   \n",
       "6665        -0.305221                  -1.177216    0   -0.217825   \n",
       "17043        0.527832                  -0.224267    0   -0.312756   \n",
       "17678        0.527832                  -0.477711    0   -0.285181   \n",
       "6513        -1.342608                   0.612097    0    0.244089   \n",
       "\n",
       "       EMI_OS_AMOUNT      FOIR   NET_LTV  NET_RECEIVABLE  \\\n",
       "18326      -0.044958 -0.044210 -0.298962        0.037357   \n",
       "6665       -0.044958 -1.013922  0.591092        0.037357   \n",
       "17043      -0.044958 -0.749455 -1.634277        0.037181   \n",
       "17678      -0.044958 -0.661299  0.465020        0.037357   \n",
       "6513       -0.044958 -1.234311  0.468326        0.037357   \n",
       "\n",
       "       OUTSTANDING_PRINCIPAL  NPA_IN_CURRENT_MONTH  DUEDAY_5  DUEDAY_15  \\\n",
       "18326              -0.310021             -0.102557         1          0   \n",
       "6665               -0.320727             -0.102557         1          0   \n",
       "17043              -0.416114             -0.102557         1          0   \n",
       "17678              -0.091146             -0.102557         1          0   \n",
       "6513               -0.014956             -0.102557         1          0   \n",
       "\n",
       "       PRODUCT_LAP  PRODUCT_STHL  PRODUCT_STLAP  \n",
       "18326            0             0              1  \n",
       "6665             0             1              0  \n",
       "17043            1             0              0  \n",
       "17678            1             0              0  \n",
       "6513             1             0              0  "
      ]
     },
     "execution_count": 24,
     "metadata": {},
     "output_type": "execute_result"
    }
   ],
   "source": [
    "X_train.loc[:, num_cols] = ss.fit_transform(X_train.loc[:, num_cols])\n",
    "X_train.head()"
   ]
  },
  {
   "cell_type": "code",
   "execution_count": 25,
   "id": "a7f9035c",
   "metadata": {},
   "outputs": [],
   "source": [
    "X_test.loc[:, num_cols] = ss.transform(X_test.loc[:, num_cols])"
   ]
  },
  {
   "cell_type": "markdown",
   "id": "176cd67b",
   "metadata": {},
   "source": [
    "## Balancing the Train Data using Oversampling\n"
   ]
  },
  {
   "cell_type": "code",
   "execution_count": 26,
   "id": "35cd410f",
   "metadata": {},
   "outputs": [],
   "source": [
    "from imblearn import under_sampling, over_sampling\n",
    "from collections import Counter"
   ]
  },
  {
   "cell_type": "code",
   "execution_count": 27,
   "id": "4eb12739",
   "metadata": {},
   "outputs": [
    {
     "name": "stdout",
     "output_type": "stream",
     "text": [
      "[(0, 12616), (1, 12616)] (25232,)\n"
     ]
    }
   ],
   "source": [
    "from imblearn.over_sampling import RandomOverSampler\n",
    "ros= RandomOverSampler(random_state=0)\n",
    "X_resampled, y_resampled = ros.fit_resample(X_train,y_train)\n",
    "print(sorted(Counter(y_resampled).items()), y_resampled.shape)"
   ]
  },
  {
   "cell_type": "markdown",
   "id": "40c7383e",
   "metadata": {},
   "source": [
    "# Model Evaluation"
   ]
  },
  {
   "cell_type": "markdown",
   "id": "817039b0",
   "metadata": {},
   "source": [
    "Created a user defined function for Model evaluation"
   ]
  },
  {
   "cell_type": "code",
   "execution_count": 28,
   "id": "3f7bd439",
   "metadata": {},
   "outputs": [],
   "source": [
    "def metric(actual_values, predicted_values):\n",
    "    l = []\n",
    "    cfm = confusion_matrix(actual_values,predicted_values)\n",
    "    # print(cfm[0,1],cfm[1,0],cfm[0,1]+cfm[1,0],sep = ',')\n",
    "    print(cfm)\n",
    "    \n",
    "    print('\\nClassification Report\\n',classification_report(actual_values,predicted_values))\n",
    "    \n",
    "    acc = round(accuracy_score(actual_values,predicted_values),4)\n",
    "    l.append(acc)\n",
    "    print('\\nAccuracy of Model :',acc)\n",
    "    \n",
    "    \n",
    "    \n",
    "    # Precision value of class 1\n",
    "    pr = round(precision_score(actual_values,predicted_values),4)\n",
    "    l.append(pr)\n",
    "    \n",
    "    # Recall value of class 1\n",
    "    re = round(recall_score(actual_values,predicted_values),4)\n",
    "    l.append(re)\n",
    "    \n",
    "    # F1-score value of class 1\n",
    "    f1 = round(f1_score(actual_values,predicted_values),4)\n",
    "    l.append(f1)\n",
    "    \n",
    "    # Type I error value\n",
    "    l.append(cfm[0,1])\n",
    "    \n",
    "    # Type II error value\n",
    "    l.append(cfm[1,0])\n",
    "    \n",
    "    # Total error value \n",
    "    l.append(cfm[0,1]+cfm[1,0])\n",
    "    \n",
    "    return l"
   ]
  },
  {
   "cell_type": "code",
   "execution_count": 29,
   "id": "c240b773",
   "metadata": {},
   "outputs": [],
   "source": [
    "# Dataframe to store the results of each model\n",
    "\n",
    "result = pd.DataFrame(columns = ['Algorithm','Overall Accuracy','Precision Value','Recall Value','F1-Score',\n",
    "                                 'Type I Error','Type II Error', 'Total Error'])\n",
    "\n",
    "result['Algorithm'] = ['Logistic Regression','Linear Discriminant Analysis','Knn','Decision Tree','Random Forest',\n",
    "                       'Bagging','AdaBoost','Gradient Boosting']\n",
    "\n",
    "result.set_index('Algorithm', inplace = True)"
   ]
  },
  {
   "cell_type": "markdown",
   "id": "34d91c0e",
   "metadata": {},
   "source": [
    "Dataframe to store predicted values of each model\n"
   ]
  },
  {
   "cell_type": "code",
   "execution_count": 30,
   "id": "3facb7cb",
   "metadata": {},
   "outputs": [
    {
     "data": {
      "text/html": [
       "<div>\n",
       "<style scoped>\n",
       "    .dataframe tbody tr th:only-of-type {\n",
       "        vertical-align: middle;\n",
       "    }\n",
       "\n",
       "    .dataframe tbody tr th {\n",
       "        vertical-align: top;\n",
       "    }\n",
       "\n",
       "    .dataframe thead th {\n",
       "        text-align: right;\n",
       "    }\n",
       "</style>\n",
       "<table border=\"1\" class=\"dataframe\">\n",
       "  <thead>\n",
       "    <tr style=\"text-align: right;\">\n",
       "      <th></th>\n",
       "      <th>Actual Values</th>\n",
       "    </tr>\n",
       "  </thead>\n",
       "  <tbody>\n",
       "    <tr>\n",
       "      <th>7600</th>\n",
       "      <td>0</td>\n",
       "    </tr>\n",
       "    <tr>\n",
       "      <th>288</th>\n",
       "      <td>0</td>\n",
       "    </tr>\n",
       "    <tr>\n",
       "      <th>15507</th>\n",
       "      <td>0</td>\n",
       "    </tr>\n",
       "    <tr>\n",
       "      <th>14842</th>\n",
       "      <td>0</td>\n",
       "    </tr>\n",
       "    <tr>\n",
       "      <th>7965</th>\n",
       "      <td>0</td>\n",
       "    </tr>\n",
       "  </tbody>\n",
       "</table>\n",
       "</div>"
      ],
      "text/plain": [
       "       Actual Values\n",
       "7600               0\n",
       "288                0\n",
       "15507              0\n",
       "14842              0\n",
       "7965               0"
      ]
     },
     "execution_count": 30,
     "metadata": {},
     "output_type": "execute_result"
    }
   ],
   "source": [
    "prediction = pd.DataFrame()\n",
    "prediction['Actual Values'] = y_test\n",
    "pred1 = prediction.copy()\n",
    "prediction.head()"
   ]
  },
  {
   "cell_type": "markdown",
   "id": "f3be46f6",
   "metadata": {},
   "source": [
    "# Modelling Approach"
   ]
  },
  {
   "cell_type": "markdown",
   "id": "6469c284",
   "metadata": {},
   "source": [
    "### Logistic Regression"
   ]
  },
  {
   "cell_type": "code",
   "execution_count": 31,
   "id": "8e105e5a",
   "metadata": {},
   "outputs": [],
   "source": [
    "from sklearn.linear_model import  LogisticRegression\n",
    "from sklearn.metrics import classification_report, f1_score"
   ]
  },
  {
   "cell_type": "code",
   "execution_count": 32,
   "id": "6ddade9b",
   "metadata": {},
   "outputs": [
    {
     "name": "stdout",
     "output_type": "stream",
     "text": [
      "[[5341   67]\n",
      " [ 439   83]]\n",
      "\n",
      "Classification Report\n",
      "               precision    recall  f1-score   support\n",
      "\n",
      "           0       0.92      0.99      0.95      5408\n",
      "           1       0.55      0.16      0.25       522\n",
      "\n",
      "    accuracy                           0.91      5930\n",
      "   macro avg       0.74      0.57      0.60      5930\n",
      "weighted avg       0.89      0.91      0.89      5930\n",
      "\n",
      "\n",
      "Accuracy of Model : 0.9147\n",
      "Train F1:  0.2952439777640519\n",
      "Test F1:  0.24702380952380953\n"
     ]
    }
   ],
   "source": [
    "lr = LogisticRegression()\n",
    "lr.fit(X_train, y_train)\n",
    "\n",
    "train_pred = lr.predict(X_train)\n",
    "test_pred = lr.predict(X_test)\n",
    "\n",
    "Y_pred_log = lr.predict(X_test)\n",
    "l = metric(y_test,Y_pred_log)\n",
    "\n",
    "j = 0\n",
    "for i in result.columns:\n",
    "    result.loc['Logistic Regression',i] = l[j]\n",
    "    j += 1\n",
    "        \n",
    "prediction['Logistic Regression'] = Y_pred_log\n",
    "\n",
    "\n",
    "print('Train F1: ', f1_score(y_train, train_pred))\n",
    "print('Test F1: ', f1_score(y_test, test_pred))\n"
   ]
  },
  {
   "cell_type": "code",
   "execution_count": 33,
   "id": "904ff79d",
   "metadata": {},
   "outputs": [
    {
     "data": {
      "text/plain": [
       "0.5733073890815934"
      ]
     },
     "execution_count": 33,
     "metadata": {},
     "output_type": "execute_result"
    }
   ],
   "source": [
    "#AUC Value\n",
    "from sklearn.metrics import roc_auc_score\n",
    "from sklearn.metrics import roc_curve\n",
    "\n",
    "logit_roc_auc = roc_auc_score(y_test, test_pred)\n",
    "logit_roc_auc"
   ]
  },
  {
   "cell_type": "code",
   "execution_count": 34,
   "id": "7b83867f",
   "metadata": {},
   "outputs": [
    {
     "data": {
      "text/plain": [
       "(0.0, 1.05)"
      ]
     },
     "execution_count": 34,
     "metadata": {},
     "output_type": "execute_result"
    },
    {
     "data": {
      "image/png": "[encoded data removed]",
      "text/plain": [
       "<Figure size 504x360 with 1 Axes>"
      ]
     },
     "metadata": {
      "needs_background": "light"
     },
     "output_type": "display_data"
    }
   ],
   "source": [
    "#Plotting the ROC Curve\n",
    "fpr, tpr, threshold = roc_curve(y_test, test_pred)\n",
    "plt.plot(fpr,tpr)\n",
    "plt.plot([0, 1], [0, 1],'r--')\n",
    "plt.xlim([0.0, 1.0])\n",
    "plt.ylim([0.0, 1.05])"
   ]
  },
  {
   "cell_type": "markdown",
   "id": "ed6c7522",
   "metadata": {},
   "source": [
    "### LDA"
   ]
  },
  {
   "cell_type": "code",
   "execution_count": 35,
   "id": "2e02176f",
   "metadata": {},
   "outputs": [],
   "source": [
    "from sklearn.discriminant_analysis import LinearDiscriminantAnalysis"
   ]
  },
  {
   "cell_type": "code",
   "execution_count": 36,
   "id": "49d4a858",
   "metadata": {},
   "outputs": [
    {
     "name": "stdout",
     "output_type": "stream",
     "text": [
      "[[5257  151]\n",
      " [ 335  187]]\n",
      "\n",
      "Classification Report\n",
      "               precision    recall  f1-score   support\n",
      "\n",
      "           0       0.94      0.97      0.96      5408\n",
      "           1       0.55      0.36      0.43       522\n",
      "\n",
      "    accuracy                           0.92      5930\n",
      "   macro avg       0.75      0.67      0.70      5930\n",
      "weighted avg       0.91      0.92      0.91      5930\n",
      "\n",
      "\n",
      "Accuracy of Model : 0.918\n",
      "Train F1:  0.4431429965836994\n",
      "Test F1:  0.43488372093023264\n"
     ]
    }
   ],
   "source": [
    "lda = LinearDiscriminantAnalysis()\n",
    "lda.fit(X_train, y_train)\n",
    "\n",
    "train_pred = lda.predict(X_train)\n",
    "test_pred = lda.predict(X_test)\n",
    "\n",
    "Y_pred_lda = lda.predict(X_test)\n",
    "l = metric(y_test,Y_pred_lda)\n",
    "\n",
    "j = 0\n",
    "for i in result.columns:\n",
    "    result.loc['Linear Discriminant Analysis',i] = l[j]\n",
    "    j += 1\n",
    "        \n",
    "prediction['Linear Discriminant Analysis'] = Y_pred_lda\n",
    "\n",
    "\n",
    "print('Train F1: ', f1_score(y_train, train_pred))\n",
    "print('Test F1: ', f1_score(y_test, test_pred))"
   ]
  },
  {
   "cell_type": "code",
   "execution_count": 37,
   "id": "0f04ab86",
   "metadata": {},
   "outputs": [
    {
     "data": {
      "text/plain": [
       "0.6651579751297921"
      ]
     },
     "execution_count": 37,
     "metadata": {},
     "output_type": "execute_result"
    }
   ],
   "source": [
    "#AUC Value\n",
    "from sklearn.metrics import roc_auc_score\n",
    "from sklearn.metrics import roc_curve\n",
    "\n",
    "lda_roc_auc = roc_auc_score(y_test, test_pred)\n",
    "lda_roc_auc"
   ]
  },
  {
   "cell_type": "code",
   "execution_count": 38,
   "id": "9e552847",
   "metadata": {},
   "outputs": [
    {
     "data": {
      "text/plain": [
       "(0.0, 1.05)"
      ]
     },
     "execution_count": 38,
     "metadata": {},
     "output_type": "execute_result"
    },
    {
     "data": {
      "image/png": "[encoded data removed]",
      "text/plain": [
       "<Figure size 504x360 with 1 Axes>"
      ]
     },
     "metadata": {
      "needs_background": "light"
     },
     "output_type": "display_data"
    }
   ],
   "source": [
    "#Plotting the ROC Curve\n",
    "fpr, tpr, threshold = roc_curve(y_test, test_pred)\n",
    "plt.plot(fpr,tpr)\n",
    "plt.plot([0, 1], [0, 1],'r--')\n",
    "plt.xlim([0.0, 1.0])\n",
    "plt.ylim([0.0, 1.05])"
   ]
  },
  {
   "cell_type": "markdown",
   "id": "fc0afd42",
   "metadata": {},
   "source": [
    "### KNN"
   ]
  },
  {
   "cell_type": "code",
   "execution_count": 39,
   "id": "e2040400",
   "metadata": {},
   "outputs": [],
   "source": [
    "from sklearn.neighbors import KNeighborsClassifier"
   ]
  },
  {
   "cell_type": "code",
   "execution_count": 40,
   "id": "cc982802",
   "metadata": {},
   "outputs": [
    {
     "name": "stdout",
     "output_type": "stream",
     "text": [
      "[[5288  120]\n",
      " [ 305  217]]\n",
      "\n",
      "Classification Report\n",
      "               precision    recall  f1-score   support\n",
      "\n",
      "           0       0.95      0.98      0.96      5408\n",
      "           1       0.64      0.42      0.51       522\n",
      "\n",
      "    accuracy                           0.93      5930\n",
      "   macro avg       0.79      0.70      0.73      5930\n",
      "weighted avg       0.92      0.93      0.92      5930\n",
      "\n",
      "\n",
      "Accuracy of Model : 0.9283\n",
      "Train F1:  0.6453178068898593\n",
      "Test F1:  0.5052386495925495\n"
     ]
    }
   ],
   "source": [
    "knn = KNeighborsClassifier()\n",
    "knn.fit(X_train, y_train)\n",
    "\n",
    "train_pred = knn.predict(X_train)\n",
    "test_pred = knn.predict(X_test)\n",
    "\n",
    "Y_pred_knn = knn.predict(X_test)\n",
    "l = metric(y_test,Y_pred_knn)\n",
    "\n",
    "j = 0\n",
    "for i in result.columns:\n",
    "    result.loc['Knn',i] = l[j]\n",
    "    j += 1\n",
    "        \n",
    "prediction['Knn'] = Y_pred_knn\n",
    "\n",
    "\n",
    "print('Train F1: ', f1_score(y_train, train_pred))\n",
    "print('Test F1: ', f1_score(y_test, test_pred))"
   ]
  },
  {
   "cell_type": "code",
   "execution_count": 41,
   "id": "51d4f02c",
   "metadata": {},
   "outputs": [
    {
     "name": "stdout",
     "output_type": "stream",
     "text": [
      "Train F1:  0.5158069883527454\n",
      "Test F1:  0.42245989304812837\n",
      "\n",
      "\n",
      "              precision    recall  f1-score   support\n",
      "\n",
      "           0       0.94      0.99      0.96      5408\n",
      "           1       0.70      0.30      0.42       522\n",
      "\n",
      "    accuracy                           0.93      5930\n",
      "   macro avg       0.82      0.65      0.69      5930\n",
      "weighted avg       0.92      0.93      0.91      5930\n",
      "\n"
     ]
    }
   ],
   "source": [
    "knn = KNeighborsClassifier(n_neighbors = 10)\n",
    "knn.fit(X_train, y_train)\n",
    "\n",
    "train_pred = knn.predict(X_train)\n",
    "test_pred = knn.predict(X_test)\n",
    "\n",
    "print('Train F1: ', f1_score(y_train, train_pred))\n",
    "print('Test F1: ', f1_score(y_test, test_pred))\n",
    "print('\\n')\n",
    "print(classification_report(y_test, test_pred))"
   ]
  },
  {
   "cell_type": "code",
   "execution_count": 42,
   "id": "d837a079",
   "metadata": {},
   "outputs": [
    {
     "data": {
      "text/plain": [
       "0.6450540139200616"
      ]
     },
     "execution_count": 42,
     "metadata": {},
     "output_type": "execute_result"
    }
   ],
   "source": [
    "knn_roc_auc = roc_auc_score(y_test, test_pred)\n",
    "knn_roc_auc"
   ]
  },
  {
   "cell_type": "code",
   "execution_count": 43,
   "id": "44818626",
   "metadata": {},
   "outputs": [
    {
     "data": {
      "text/plain": [
       "(0.0, 1.05)"
      ]
     },
     "execution_count": 43,
     "metadata": {},
     "output_type": "execute_result"
    },
    {
     "data": {
      "image/png": "[encoded data removed]",
      "text/plain": [
       "<Figure size 504x360 with 1 Axes>"
      ]
     },
     "metadata": {
      "needs_background": "light"
     },
     "output_type": "display_data"
    }
   ],
   "source": [
    "#Plotting the ROC Curve\n",
    "fpr, tpr, threshold = roc_curve(y_test, test_pred)\n",
    "plt.plot(fpr,tpr)\n",
    "plt.plot([0, 1], [0, 1],'r--')\n",
    "plt.xlim([0.0, 1.0])\n",
    "plt.ylim([0.0, 1.05])"
   ]
  },
  {
   "cell_type": "markdown",
   "id": "5e0f8f69",
   "metadata": {},
   "source": [
    "### Decision Tree"
   ]
  },
  {
   "cell_type": "code",
   "execution_count": 44,
   "id": "92c93c71",
   "metadata": {},
   "outputs": [],
   "source": [
    "from sklearn.tree import DecisionTreeClassifier"
   ]
  },
  {
   "cell_type": "code",
   "execution_count": 45,
   "id": "fab36d68",
   "metadata": {},
   "outputs": [
    {
     "name": "stdout",
     "output_type": "stream",
     "text": [
      "[[5157  251]\n",
      " [ 200  322]]\n",
      "\n",
      "Classification Report\n",
      "               precision    recall  f1-score   support\n",
      "\n",
      "           0       0.96      0.95      0.96      5408\n",
      "           1       0.56      0.62      0.59       522\n",
      "\n",
      "    accuracy                           0.92      5930\n",
      "   macro avg       0.76      0.79      0.77      5930\n",
      "weighted avg       0.93      0.92      0.93      5930\n",
      "\n",
      "\n",
      "Accuracy of Model : 0.9239\n",
      "Train F1:  1.0\n",
      "Test F1:  0.5881278538812785\n"
     ]
    }
   ],
   "source": [
    "dt = DecisionTreeClassifier(random_state=1)\n",
    "dt.fit(X_train, y_train)\n",
    "\n",
    "train_pred = dt.predict(X_train)\n",
    "test_pred = dt.predict(X_test)\n",
    "\n",
    "Y_pred_dec = dt.predict(X_test)\n",
    "l = metric(y_test,Y_pred_dec)\n",
    "\n",
    "j = 0\n",
    "for i in result.columns:\n",
    "    result.loc['Decision Tree',i] = l[j]\n",
    "    j += 1\n",
    "        \n",
    "prediction['Decision Tree'] = Y_pred_dec\n",
    "\n",
    "\n",
    "print('Train F1: ', f1_score(y_train, train_pred))\n",
    "print('Test F1: ', f1_score(y_test, test_pred))"
   ]
  },
  {
   "cell_type": "code",
   "execution_count": 46,
   "id": "3f464020",
   "metadata": {},
   "outputs": [
    {
     "data": {
      "text/plain": [
       "0.7852227578272007"
      ]
     },
     "execution_count": 46,
     "metadata": {},
     "output_type": "execute_result"
    }
   ],
   "source": [
    "decisiontree_roc_auc = roc_auc_score(y_test, test_pred)\n",
    "decisiontree_roc_auc"
   ]
  },
  {
   "cell_type": "code",
   "execution_count": 47,
   "id": "c8af3081",
   "metadata": {},
   "outputs": [
    {
     "data": {
      "text/plain": [
       "(0.0, 1.05)"
      ]
     },
     "execution_count": 47,
     "metadata": {},
     "output_type": "execute_result"
    },
    {
     "data": {
      "image/png": "[encoded data removed]",
      "text/plain": [
       "<Figure size 504x360 with 1 Axes>"
      ]
     },
     "metadata": {
      "needs_background": "light"
     },
     "output_type": "display_data"
    }
   ],
   "source": [
    "#Plotting the ROC Curve\n",
    "fpr, tpr, threshold = roc_curve(y_test, test_pred)\n",
    "plt.plot(fpr,tpr)\n",
    "plt.plot([0, 1], [0, 1],'r--')\n",
    "plt.xlim([0.0, 1.0])\n",
    "plt.ylim([0.0, 1.05])"
   ]
  },
  {
   "cell_type": "markdown",
   "id": "5d19e336",
   "metadata": {},
   "source": [
    "### Random Forest"
   ]
  },
  {
   "cell_type": "code",
   "execution_count": 48,
   "id": "454c61c3",
   "metadata": {},
   "outputs": [],
   "source": [
    "from sklearn.ensemble import RandomForestClassifier"
   ]
  },
  {
   "cell_type": "code",
   "execution_count": 49,
   "id": "06b27676",
   "metadata": {},
   "outputs": [
    {
     "name": "stdout",
     "output_type": "stream",
     "text": [
      "[[5337   71]\n",
      " [ 240  282]]\n",
      "\n",
      "Classification Report\n",
      "               precision    recall  f1-score   support\n",
      "\n",
      "           0       0.96      0.99      0.97      5408\n",
      "           1       0.80      0.54      0.64       522\n",
      "\n",
      "    accuracy                           0.95      5930\n",
      "   macro avg       0.88      0.76      0.81      5930\n",
      "weighted avg       0.94      0.95      0.94      5930\n",
      "\n",
      "\n",
      "Accuracy of Model : 0.9476\n",
      "Train F1:  1.0\n",
      "Test F1:  0.6445714285714286\n"
     ]
    }
   ],
   "source": [
    "rf = RandomForestClassifier(random_state=1)\n",
    "rf.fit(X_train, y_train)\n",
    "\n",
    "train_pred = rf.predict(X_train)\n",
    "test_pred = rf.predict(X_test)\n",
    "\n",
    "Y_pred_rf = rf.predict(X_test)\n",
    "l = metric(y_test,Y_pred_rf)\n",
    "\n",
    "j = 0\n",
    "for i in result.columns:\n",
    "    result.loc['Random Forest',i] = l[j]\n",
    "    j += 1\n",
    "        \n",
    "prediction['Random Forest'] = Y_pred_rf\n",
    "\n",
    "\n",
    "print('Train F1: ', f1_score(y_train, train_pred))\n",
    "print('Test F1: ', f1_score(y_test, test_pred))"
   ]
  },
  {
   "cell_type": "code",
   "execution_count": 50,
   "id": "e8f82f9c",
   "metadata": {},
   "outputs": [
    {
     "data": {
      "text/plain": [
       "0.7635505934163097"
      ]
     },
     "execution_count": 50,
     "metadata": {},
     "output_type": "execute_result"
    }
   ],
   "source": [
    "randomfor_roc_auc = roc_auc_score(y_test, test_pred)\n",
    "randomfor_roc_auc"
   ]
  },
  {
   "cell_type": "code",
   "execution_count": 51,
   "id": "b062f1a3",
   "metadata": {},
   "outputs": [
    {
     "data": {
      "text/plain": [
       "(0.0, 1.05)"
      ]
     },
     "execution_count": 51,
     "metadata": {},
     "output_type": "execute_result"
    },
    {
     "data": {
      "image/png": "[encoded data removed]",
      "text/plain": [
       "<Figure size 504x360 with 1 Axes>"
      ]
     },
     "metadata": {
      "needs_background": "light"
     },
     "output_type": "display_data"
    }
   ],
   "source": [
    "#Plotting the ROC Curve\n",
    "fpr, tpr, threshold = roc_curve(y_test, test_pred)\n",
    "plt.plot(fpr,tpr)\n",
    "plt.plot([0, 1], [0, 1],'r--')\n",
    "plt.xlim([0.0, 1.0])\n",
    "plt.ylim([0.0, 1.05])"
   ]
  },
  {
   "cell_type": "markdown",
   "id": "b7ab9a43",
   "metadata": {},
   "source": [
    "### Bagging Classifier"
   ]
  },
  {
   "cell_type": "code",
   "execution_count": 52,
   "id": "4f685a49",
   "metadata": {},
   "outputs": [],
   "source": [
    "from sklearn.ensemble import BaggingClassifier"
   ]
  },
  {
   "cell_type": "code",
   "execution_count": 53,
   "id": "df9987fb",
   "metadata": {},
   "outputs": [],
   "source": [
    "be = LinearDiscriminantAnalysis()"
   ]
  },
  {
   "cell_type": "code",
   "execution_count": 54,
   "id": "efceca17",
   "metadata": {},
   "outputs": [
    {
     "name": "stdout",
     "output_type": "stream",
     "text": [
      "[[5257  151]\n",
      " [ 345  177]]\n",
      "\n",
      "Classification Report\n",
      "               precision    recall  f1-score   support\n",
      "\n",
      "           0       0.94      0.97      0.95      5408\n",
      "           1       0.54      0.34      0.42       522\n",
      "\n",
      "    accuracy                           0.92      5930\n",
      "   macro avg       0.74      0.66      0.69      5930\n",
      "weighted avg       0.90      0.92      0.91      5930\n",
      "\n",
      "\n",
      "Accuracy of Model : 0.9164\n",
      "Train F1:  0.4306172839506173\n",
      "Test F1:  0.4164705882352941\n"
     ]
    }
   ],
   "source": [
    "bag = BaggingClassifier(base_estimator= be, n_estimators= 10, random_state=1 )\n",
    "bag.fit(X_train, y_train)\n",
    "\n",
    "train_pred = bag.predict(X_train)\n",
    "test_pred = bag.predict(X_test)\n",
    "\n",
    "\n",
    "Y_pred_bag = bag.predict(X_test)\n",
    "l = metric(y_test,Y_pred_bag)\n",
    "\n",
    "j = 0\n",
    "for i in result.columns:\n",
    "    result.loc['Bagging',i] = l[j]\n",
    "    j += 1\n",
    "        \n",
    "prediction['Bagging'] = Y_pred_bag\n",
    "\n",
    "\n",
    "print('Train F1: ', f1_score(y_train, train_pred))\n",
    "print('Test F1: ', f1_score(y_test, test_pred))"
   ]
  },
  {
   "cell_type": "code",
   "execution_count": 55,
   "id": "7c732c84",
   "metadata": {},
   "outputs": [
    {
     "data": {
      "text/plain": [
       "0.6555794310684895"
      ]
     },
     "execution_count": 55,
     "metadata": {},
     "output_type": "execute_result"
    }
   ],
   "source": [
    "baggingclass_roc_auc = roc_auc_score(y_test, test_pred)\n",
    "baggingclass_roc_auc"
   ]
  },
  {
   "cell_type": "code",
   "execution_count": 56,
   "id": "912ee7fb",
   "metadata": {},
   "outputs": [
    {
     "data": {
      "text/plain": [
       "(0.0, 1.05)"
      ]
     },
     "execution_count": 56,
     "metadata": {},
     "output_type": "execute_result"
    },
    {
     "data": {
      "image/png": "[encoded data removed]",
      "text/plain": [
       "<Figure size 504x360 with 1 Axes>"
      ]
     },
     "metadata": {
      "needs_background": "light"
     },
     "output_type": "display_data"
    }
   ],
   "source": [
    "#Plotting the ROC Curve\n",
    "fpr, tpr, threshold = roc_curve(y_test, test_pred)\n",
    "plt.plot(fpr,tpr)\n",
    "plt.plot([0, 1], [0, 1],'r--')\n",
    "plt.xlim([0.0, 1.0])\n",
    "plt.ylim([0.0, 1.05])"
   ]
  },
  {
   "cell_type": "markdown",
   "id": "af9b3bb2",
   "metadata": {},
   "source": [
    "### Adaboost"
   ]
  },
  {
   "cell_type": "code",
   "execution_count": 57,
   "id": "d3688388",
   "metadata": {},
   "outputs": [],
   "source": [
    "from sklearn.ensemble import AdaBoostClassifier"
   ]
  },
  {
   "cell_type": "code",
   "execution_count": 58,
   "id": "542d918a",
   "metadata": {},
   "outputs": [],
   "source": [
    "be = DecisionTreeClassifier(max_depth=1)"
   ]
  },
  {
   "cell_type": "code",
   "execution_count": 59,
   "id": "42fdf58e",
   "metadata": {},
   "outputs": [
    {
     "name": "stdout",
     "output_type": "stream",
     "text": [
      "[[5388   20]\n",
      " [ 477   45]]\n",
      "\n",
      "Classification Report\n",
      "               precision    recall  f1-score   support\n",
      "\n",
      "           0       0.92      1.00      0.96      5408\n",
      "           1       0.69      0.09      0.15       522\n",
      "\n",
      "    accuracy                           0.92      5930\n",
      "   macro avg       0.81      0.54      0.55      5930\n",
      "weighted avg       0.90      0.92      0.89      5930\n",
      "\n",
      "\n",
      "Accuracy of Model : 0.9162\n",
      "Train F1:  0.2075736325385694\n",
      "Test F1:  0.15332197614991483\n"
     ]
    }
   ],
   "source": [
    "ada = AdaBoostClassifier(base_estimator=be, n_estimators= 100, random_state=1, learning_rate=0.1)\n",
    "ada.fit(X_train, y_train)\n",
    "\n",
    "train_pred = ada.predict(X_train)\n",
    "test_pred = ada.predict(X_test)\n",
    "\n",
    "Y_pred_ada = ada.predict(X_test)\n",
    "l = metric(y_test,Y_pred_ada)\n",
    "\n",
    "j = 0\n",
    "for i in result.columns:\n",
    "    result.loc['AdaBoost',i] = l[j]\n",
    "    j += 1\n",
    "        \n",
    "prediction['AdaBoost'] = Y_pred_ada\n",
    "\n",
    "\n",
    "print('Train F1: ', f1_score(y_train, train_pred))\n",
    "print('Test F1: ', f1_score(y_test, test_pred))"
   ]
  },
  {
   "cell_type": "code",
   "execution_count": 60,
   "id": "3be2fc41",
   "metadata": {},
   "outputs": [
    {
     "data": {
      "text/plain": [
       "0.5412543358498266"
      ]
     },
     "execution_count": 60,
     "metadata": {},
     "output_type": "execute_result"
    }
   ],
   "source": [
    "adaboost_roc_auc = roc_auc_score(y_test, test_pred)\n",
    "adaboost_roc_auc"
   ]
  },
  {
   "cell_type": "code",
   "execution_count": 61,
   "id": "1911756a",
   "metadata": {},
   "outputs": [
    {
     "data": {
      "text/plain": [
       "(0.0, 1.05)"
      ]
     },
     "execution_count": 61,
     "metadata": {},
     "output_type": "execute_result"
    },
    {
     "data": {
      "image/png": "[encoded data removed]",
      "text/plain": [
       "<Figure size 504x360 with 1 Axes>"
      ]
     },
     "metadata": {
      "needs_background": "light"
     },
     "output_type": "display_data"
    }
   ],
   "source": [
    "#Plotting the ROC Curve\n",
    "fpr, tpr, threshold = roc_curve(y_test, test_pred)\n",
    "plt.plot(fpr,tpr)\n",
    "plt.plot([0, 1], [0, 1],'r--')\n",
    "plt.xlim([0.0, 1.0])\n",
    "plt.ylim([0.0, 1.05])"
   ]
  },
  {
   "cell_type": "markdown",
   "id": "132cade4",
   "metadata": {},
   "source": [
    "### Gradient Boosting"
   ]
  },
  {
   "cell_type": "code",
   "execution_count": 62,
   "id": "a73dd68e",
   "metadata": {},
   "outputs": [],
   "source": [
    "from sklearn.ensemble import GradientBoostingClassifier"
   ]
  },
  {
   "cell_type": "code",
   "execution_count": 63,
   "id": "eaf3d5a2",
   "metadata": {},
   "outputs": [
    {
     "name": "stdout",
     "output_type": "stream",
     "text": [
      "Train F1:  0.7492984097287185\n",
      "Test F1:  0.6711864406779662\n",
      "\n",
      "\n",
      "              precision    recall  f1-score   support\n",
      "\n",
      "           0       0.96      0.99      0.97      5408\n",
      "           1       0.82      0.57      0.67       522\n",
      "\n",
      "    accuracy                           0.95      5930\n",
      "   macro avg       0.89      0.78      0.82      5930\n",
      "weighted avg       0.95      0.95      0.95      5930\n",
      "\n"
     ]
    }
   ],
   "source": [
    "gbc = GradientBoostingClassifier(n_estimators= 300, random_state=1,learning_rate=0.07)\n",
    "gbc.fit(X_train, y_train)\n",
    "\n",
    "train_pred = gbc.predict(X_train)\n",
    "test_pred = gbc.predict(X_test)\n",
    "\n",
    "print('Train F1: ', f1_score(y_train, train_pred))\n",
    "print('Test F1: ', f1_score(y_test, test_pred))\n",
    "print('\\n')\n",
    "print(classification_report(y_test, test_pred))"
   ]
  },
  {
   "cell_type": "code",
   "execution_count": 64,
   "id": "d4d1afe5",
   "metadata": {},
   "outputs": [
    {
     "data": {
      "text/plain": [
       "0.7783806876147726"
      ]
     },
     "execution_count": 64,
     "metadata": {},
     "output_type": "execute_result"
    }
   ],
   "source": [
    "gradient_roc_auc = roc_auc_score(y_test, test_pred)\n",
    "gradient_roc_auc"
   ]
  },
  {
   "cell_type": "code",
   "execution_count": 65,
   "id": "e9c6a079",
   "metadata": {},
   "outputs": [
    {
     "data": {
      "text/plain": [
       "(0.0, 1.05)"
      ]
     },
     "execution_count": 65,
     "metadata": {},
     "output_type": "execute_result"
    },
    {
     "data": {
      "image/png": "[encoded data removed]",
      "text/plain": [
       "<Figure size 504x360 with 1 Axes>"
      ]
     },
     "metadata": {
      "needs_background": "light"
     },
     "output_type": "display_data"
    }
   ],
   "source": [
    "#Plotting the ROC Curve\n",
    "fpr, tpr, threshold = roc_curve(y_test, test_pred)\n",
    "plt.plot(fpr,tpr)\n",
    "plt.plot([0, 1], [0, 1],'r--')\n",
    "plt.xlim([0.0, 1.0])\n",
    "plt.ylim([0.0, 1.05])"
   ]
  },
  {
   "cell_type": "markdown",
   "id": "1b469f5d",
   "metadata": {},
   "source": [
    "### Lets tune GBC further since this the best performing one"
   ]
  },
  {
   "cell_type": "code",
   "execution_count": 66,
   "id": "85aef0a9",
   "metadata": {},
   "outputs": [],
   "source": [
    "from sklearn.model_selection import GridSearchCV"
   ]
  },
  {
   "cell_type": "code",
   "execution_count": 67,
   "id": "a726401e",
   "metadata": {},
   "outputs": [],
   "source": [
    "params = {'n_estimators': [50, 100, 150],\n",
    "          'min_samples_split':[2, 5, 7],\n",
    "          'max_depth': [1, 3, 5]}"
   ]
  },
  {
   "cell_type": "code",
   "execution_count": 68,
   "id": "698973e7",
   "metadata": {},
   "outputs": [
    {
     "name": "stdout",
     "output_type": "stream",
     "text": [
      "Fitting 3 folds for each of 27 candidates, totalling 81 fits\n",
      "Wall time: 4min 27s\n"
     ]
    },
    {
     "data": {
      "text/plain": [
       "GridSearchCV(cv=3, estimator=GradientBoostingClassifier(random_state=1),\n",
       "             param_grid={'max_depth': [1, 3, 5], 'min_samples_split': [2, 5, 7],\n",
       "                         'n_estimators': [50, 100, 150]},\n",
       "             scoring='f1', verbose=1)"
      ]
     },
     "execution_count": 68,
     "metadata": {},
     "output_type": "execute_result"
    }
   ],
   "source": [
    "%%time\n",
    "gbc = GradientBoostingClassifier(random_state=1 )\n",
    "grid_gbc = GridSearchCV(gbc, param_grid = params, verbose=1, cv = 3, scoring='f1')\n",
    "grid_gbc.fit(X_train, y_train)"
   ]
  },
  {
   "cell_type": "code",
   "execution_count": 69,
   "id": "fd17cbc7",
   "metadata": {},
   "outputs": [
    {
     "data": {
      "text/plain": [
       "{'max_depth': 5, 'min_samples_split': 2, 'n_estimators': 150}"
      ]
     },
     "execution_count": 69,
     "metadata": {},
     "output_type": "execute_result"
    }
   ],
   "source": [
    "grid_gbc.best_params_"
   ]
  },
  {
   "cell_type": "code",
   "execution_count": 70,
   "id": "07577892",
   "metadata": {},
   "outputs": [
    {
     "data": {
      "text/plain": [
       "0.68436106694721"
      ]
     },
     "execution_count": 70,
     "metadata": {},
     "output_type": "execute_result"
    }
   ],
   "source": [
    "grid_gbc.best_score_"
   ]
  },
  {
   "cell_type": "code",
   "execution_count": 71,
   "id": "2607e4ab",
   "metadata": {},
   "outputs": [
    {
     "name": "stdout",
     "output_type": "stream",
     "text": [
      "[[5336   72]\n",
      " [ 200  322]]\n",
      "\n",
      "Classification Report\n",
      "               precision    recall  f1-score   support\n",
      "\n",
      "           0       0.96      0.99      0.98      5408\n",
      "           1       0.82      0.62      0.70       522\n",
      "\n",
      "    accuracy                           0.95      5930\n",
      "   macro avg       0.89      0.80      0.84      5930\n",
      "weighted avg       0.95      0.95      0.95      5930\n",
      "\n",
      "\n",
      "Accuracy of Model : 0.9541\n",
      "Train F1:  0.8491071428571428\n",
      "Test F1:  0.7030567685589519\n"
     ]
    }
   ],
   "source": [
    "train_pred = grid_gbc.predict(X_train)\n",
    "test_pred = grid_gbc.predict(X_test)\n",
    "\n",
    "Y_pred_gbc = grid_gbc.predict(X_test)\n",
    "l = metric(y_test,Y_pred_gbc)\n",
    "\n",
    "j = 0\n",
    "for i in result.columns:\n",
    "    result.loc['Gradient Boosting',i] = l[j]\n",
    "    j += 1\n",
    "        \n",
    "prediction['Gradient Boosting'] = Y_pred_gbc\n",
    "\n",
    "\n",
    "print('Train F1: ', f1_score(y_train, train_pred))\n",
    "print('Test F1: ', f1_score(y_test, test_pred))"
   ]
  },
  {
   "cell_type": "code",
   "execution_count": 72,
   "id": "52d9bc4f",
   "metadata": {},
   "outputs": [
    {
     "data": {
      "text/plain": [
       "0.8017723140402184"
      ]
     },
     "execution_count": 72,
     "metadata": {},
     "output_type": "execute_result"
    }
   ],
   "source": [
    "gradient_roc_auc = roc_auc_score(y_test, test_pred)\n",
    "gradient_roc_auc"
   ]
  },
  {
   "cell_type": "code",
   "execution_count": 73,
   "id": "6ec693de",
   "metadata": {
    "scrolled": true
   },
   "outputs": [
    {
     "data": {
      "text/plain": [
       "(0.0, 1.05)"
      ]
     },
     "execution_count": 73,
     "metadata": {},
     "output_type": "execute_result"
    },
    {
     "data": {
      "image/png": "[encoded data removed]",
      "text/plain": [
       "<Figure size 504x360 with 1 Axes>"
      ]
     },
     "metadata": {
      "needs_background": "light"
     },
     "output_type": "display_data"
    }
   ],
   "source": [
    "#Plotting the ROC Curve\n",
    "fpr, tpr, threshold = roc_curve(y_test, test_pred)\n",
    "plt.plot(fpr,tpr)\n",
    "plt.plot([0, 1], [0, 1],'r--')\n",
    "plt.xlim([0.0, 1.0])\n",
    "plt.ylim([0.0, 1.05])"
   ]
  },
  {
   "cell_type": "code",
   "execution_count": 74,
   "id": "017af5e0",
   "metadata": {},
   "outputs": [],
   "source": [
    "#import joblib\n",
    "#joblib.dump(grid_gbc, \"model.pkl\") \n",
    "#model = joblib.load('model.pkl' ) \n",
    "#model.predict(X_test)"
   ]
  },
  {
   "cell_type": "code",
   "execution_count": 77,
   "id": "29b2d4ce",
   "metadata": {},
   "outputs": [],
   "source": [
    "import pickle\n",
    "file = open('model.pkl', 'rb')\n",
    "\n"
   ]
  },
  {
   "cell_type": "markdown",
   "id": "1ce25245",
   "metadata": {},
   "source": [
    "# The End"
   ]
  },
  {
   "cell_type": "code",
   "execution_count": null,
   "id": "59d395ec",
   "metadata": {},
   "outputs": [],
   "source": []
  }
 ],
 "metadata": {
  "kernelspec": {
   "display_name": "Python 3 (ipykernel)",
   "language": "python",
   "name": "python3"
  },
  "language_info": {
   "codemirror_mode": {
    "name": "ipython",
    "version": 3
   },
   "file_extension": ".py",
   "mimetype": "text/x-python",
   "name": "python",
   "nbconvert_exporter": "python",
   "pygments_lexer": "ipython3",
   "version": "3.9.7"
  }
 },
 "nbformat": 4,
 "nbformat_minor": 5
}
